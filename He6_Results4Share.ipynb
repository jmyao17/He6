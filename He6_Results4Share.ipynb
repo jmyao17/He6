{
 "cells": [
  {
   "cell_type": "markdown",
   "metadata": {},
   "source": [
    "# Benchmark neutrinoless double-beta decay matrix elements in a light nucleus\n",
    "\n",
    "R.A. Basili, J. M. Yao, J. Engel, H. Hergert, M. Lockner, P. Maris, and J.P. Vary\n",
    "\n",
    "\n",
    "- Nuclear models: NCSM, IMSRG\n",
    "- Nuclear interaction: a chiral NN (N$^3$LO/500) interaction evolved by SRG at $\\lambda=2.0$ fm$^{-1}$ \n",
    "- HO basis with $\\hbar\\Omega$=20 MeV\n",
    "- Object: neutrinoless double beta decay  $^{6}$He $\\to$ $^{6}$Be "
   ]
  },
  {
   "cell_type": "code",
   "execution_count": 1,
   "metadata": {},
   "outputs": [],
   "source": [
    "import numpy as np\n",
    "import matplotlib.pyplot as plt\n",
    "import pandas as pd\n",
    " \n",
    "import seaborn as sns\n",
    "from matplotlib.ticker import MultipleLocator, FormatStrFormatter\n",
    "from matplotlib.ticker import AutoMinorLocator\n",
    "import numpy as np\n",
    "import matplotlib.ticker as ticker\n",
    "\n",
    "#import my packages\n",
    "from mypackages.gcm import *"
   ]
  },
  {
   "cell_type": "code",
   "execution_count": 2,
   "metadata": {},
   "outputs": [],
   "source": [
    "blacksolid ={'color':'k',\n",
    "        'linestyle': '-'}\n",
    "\n",
    "blackdot ={'color':'k',\n",
    "        'linestyle': ':'}\n",
    "\n",
    "blackdashdot ={'color':'k',\n",
    "        'linestyle': '-.'}\n",
    "\n",
    "redsolid ={'color':'r',\n",
    "        'linestyle': '-'}\n",
    "bluedash ={'color':'b',\n",
    "        'linestyle': '--'}\n",
    "\n",
    "fs= 18\n",
    "\n",
    "\n",
    "plt.rcParams['figure.figsize'] = (8, 6) # set default size of plots"
   ]
  },
  {
   "cell_type": "markdown",
   "metadata": {},
   "source": [
    "# Results from the IMSRG calculation"
   ]
  },
  {
   "cell_type": "markdown",
   "metadata": {},
   "source": [
    "## eMax02\n",
    "\n",
    "### IMSRG(2) calculation for $^6$He\n",
    "- Ground-state energy :  -20.8103745\n",
    "\n",
    " \n",
    "- Rms**2 :    3.3968774 \n",
    "- Rms :    1.8430620 \n",
    "- RmsNeutron**2 :    3.8390958 \n",
    "- RmsNeutron :    1.9593611 \n",
    "- RmsProton**2 :    2.5124395 \n",
    "- RmsProton :    1.5850677 \n",
    "\n",
    "\n",
    "\n",
    "\n",
    "### BCH expansion for $M^{0\\nu}$ using Isospin symmetry\n",
    "\n",
    "\n",
    "GT:\n",
    "\n",
    "- Initial value  :   -3.7316796 \n",
    "- Correction to Obs:  -0.3277187846\n",
    "- Correction to Obs:   0.0100004342\n",
    "- Correction to Obs:  -0.0014150176\n",
    "- Correction to Obs:   0.0000233496\n",
    "- Correction to Obs:  -0.0000022126\n",
    "- Correction to Obs:   0.0000000025\n",
    "- Final value  :   -4.0507919 \n",
    " \n",
    " \n",
    " \n",
    "FM:\n",
    "- Initial value  :   -0.9924887 \n",
    "- Correction to Obs:  -0.0505916909\n",
    "- Correction to Obs:   0.0002975580\n",
    "- Correction to Obs:  -0.0002838646\n",
    "- Correction to Obs:   0.0000002451\n",
    "- Correction to Obs:  -0.0000005255\n",
    "- Final value  :   -1.0430670\n",
    " \n",
    " \n",
    " Tensor:\n",
    "- Initial value  :    0.0626875 \n",
    "- Correction to Obs:   0.0038258572\n",
    "- Correction to Obs:   0.0038283934\n",
    "- Correction to Obs:   0.0004148948\n",
    "- Correction to Obs:   0.0000284436\n",
    "- Correction to Obs:   0.0000012915\n",
    "- Correction to Obs:   0.0000000696\n",
    "- Final value  :    0.0707864 \n",
    "\n",
    "\n",
    "<u>Summary:</u>\n",
    "\n",
    "\n",
    "O     -> { M^(0nu) (evolved) }\n",
    "- 0nuGT :   -4.0507919 \n",
    "- 0nuFermi :   -1.0430670 \n",
    "- 0nuTensor :    0.0707864\n",
    "\n",
    "\n",
    "\n",
    "### PNP + Spherical HFB (without using Isospin symmetry)\n",
    "\n",
    "- GT:  -3.66148928\n",
    "- FM:  -0.982528\n",
    "- Tensor: 0.06488328"
   ]
  },
  {
   "cell_type": "markdown",
   "metadata": {},
   "source": [
    "## eMax04\n",
    "\n",
    "### IMSRG(2)\n",
    "- Ground-state energy:  -26.0368481\n",
    "- Rms**2 :    3.7529149 \n",
    "- Rms :    1.9372442 \n",
    "- RmsNeutron**2 :    4.3024013 \n",
    "- RmsNeutron :    2.0742230 \n",
    "- RmsProton**2 :    2.6539422 \n",
    "- RmsProton :    1.6290925 \n",
    " \n",
    " \n",
    "### IMSRG(2) with Isospin symmetry\n",
    "\n",
    "BCH expansion:\n",
    "\n",
    "GT\n",
    "\n",
    "- Initial value  :   -3.5988869 \n",
    "- Correction to Obs:  -0.2614016229\n",
    "- Correction to Obs:   0.0119787103\n",
    "- Correction to Obs:  -0.0019159273\n",
    "- Correction to Obs:   0.0000540039\n",
    "- Correction to Obs:  -0.0000065357\n",
    "-  Final value  :   -3.8501782 \n",
    "                      \n",
    "*********************************** \n",
    "\n",
    "FM\n",
    "\n",
    " O     -> { M^(0nu) }\n",
    "- Initial value  :   -0.9327399 \n",
    "- Correction to Obs:  -0.0476827703\n",
    "- Correction to Obs:  -0.0002333490\n",
    "- Correction to Obs:  -0.0004962458\n",
    "- Correction to Obs:  -0.0000016209\n",
    "- Correction to Obs:  -0.0000017552\n",
    "- Final value  :   -0.9811557 \n",
    "                      \n",
    "*********************************** \n",
    "\n",
    "Tensor\n",
    "\n",
    " O     -> { M^(0nu) }\n",
    "-  Initial value  :    0.0492498 \n",
    "- Correction to Obs:   0.0000388332\n",
    "- Correction to Obs:   0.0021226505\n",
    "- Correction to Obs:   0.0003141865\n",
    "- Correction to Obs:   0.0000452921\n",
    "- Correction to Obs:   0.0000016535\n",
    "- Correction to Obs:   0.0000001691\n",
    "-  Final value  :    0.0517725 \n",
    "\n",
    "\n",
    "<u>Summary:</u>\n",
    "\n",
    "O     -> { M^(0nu) (evolved) }\n",
    "\n",
    "- 0nuGT :   -3.8501782 \n",
    "- 0nuFermi :   -0.9811557 \n",
    "- 0nuTensor :    0.0517725 \n",
    "\n",
    "\n",
    "\n",
    "\n",
    "\n",
    "\n",
    "### PNP + Spherical HFB (without using Isospin symmetry)\n",
    "\n",
    "- GT:  -3.49541197\n",
    "- FM:  -0.94802241\n",
    "- Tensor:  0.06645481"
   ]
  },
  {
   "cell_type": "markdown",
   "metadata": {},
   "source": [
    "## eMax06\n",
    "\n",
    "- Ground-state energy :  -27.7520455\n",
    "\n",
    "\n",
    "- Rms**2 :    3.9368477 \n",
    "- Rms :    1.9841491 \n",
    "- RmsNeutron**2 :    4.5618029 \n",
    "- RmsNeutron :    2.1358377 \n",
    "- RmsProton**2 :    2.6869219 \n",
    "- RmsProton :    1.6391833 \n",
    "\n",
    "\n",
    "### IMSRG(2) with Isospin symmetry\n",
    "\n",
    "BCH expansion:\n",
    "\n",
    "GT\n",
    "\n",
    "- Initial value  :   -3.3982300 \n",
    "- Correction to Obs:  -0.2624828707\n",
    "- Correction to Obs:   0.0091503020\n",
    "- Correction to Obs:  -0.0010706257\n",
    "- Correction to Obs:   0.0000004056\n",
    "- Correction to Obs:  -0.0000045120\n",
    "- Final value  :   -3.6526373 \n",
    "                      \n",
    "*********************************** \n",
    "\n",
    "FM \n",
    "\n",
    "- Initial value  :   -0.8852220 \n",
    "- Correction to Obs:  -0.0472057065\n",
    "- Correction to Obs:  -0.0007193367\n",
    "- Correction to Obs:  -0.0003242164\n",
    "- Correction to Obs:  -0.0000098929\n",
    "- Correction to Obs:  -0.0000013605\n",
    "- Final value  :   -0.9334826 \n",
    "                      \n",
    "*********************************** \n",
    "\n",
    "Tensor\n",
    "\n",
    " -  Initial value  :    0.0470802 \n",
    "- Correction to Obs:  -0.0020607191\n",
    "- Correction to Obs:   0.0016957011\n",
    "- Correction to Obs:   0.0002145771\n",
    "- Correction to Obs:   0.0000226202\n",
    "- Correction to Obs:   0.0000010547\n",
    "- Final value  :    0.0469534 \n",
    " \n",
    " \n",
    "<u> Summary </u> \n",
    "\n",
    "- 0nuGT :   -3.6526373 \n",
    "- 0nuFermi :   -0.9334826 \n",
    "- 0nuTensor :    0.0469534\n"
   ]
  },
  {
   "cell_type": "markdown",
   "metadata": {},
   "source": [
    "## eMax08"
   ]
  },
  {
   "cell_type": "markdown",
   "metadata": {},
   "source": [
    "- Ground-state energy  :  -28.2396269  \n",
    "\n",
    "\n",
    "- Rms**2 :    4.0733192   \n",
    "- Rms :    2.0182466 \n",
    "- RmsNeutron**2 :    4.7524972 \n",
    "- RmsNeutron :    2.1800223 \n",
    "- RmsProton**2 :    2.7149641 \n",
    "- RmsProton :    1.6477148 \n",
    "\n",
    "\n",
    " BCH expansion\n",
    " \n",
    " GT\n",
    " \n",
    "- Initial value  :   -3.3064186 \n",
    "- Correction to Obs:  -0.4088913060\n",
    "- Correction to Obs:  -0.0973306401\n",
    "- Correction to Obs:  -0.0040985785\n",
    "- Correction to Obs:  -0.0004402399\n",
    "- Correction to Obs:  -0.0000171850\n",
    "-  Final value  :   -3.8171965 \n",
    "                      \n",
    "*********************************** \n",
    "\n",
    "FM\n",
    "\n",
    "- Initial value  :   -0.8584295 \n",
    "- Correction to Obs:  -0.0620607435\n",
    "- Correction to Obs:  -0.0185393372\n",
    "- Correction to Obs:  -0.0008435021\n",
    "- Correction to Obs:  -0.0000895974\n",
    "- Correction to Obs:  -0.0000036085\n",
    "-  Final value  :   -0.9399663 \n",
    "                      \n",
    "*********************************** \n",
    "\n",
    "Tensor\n",
    "\n",
    " - Initial value  :    0.0443481 \n",
    "- Correction to Obs:  -0.0120201484\n",
    "- Correction to Obs:  -0.0023753286\n",
    "- Correction to Obs:  -0.0001701778\n",
    "- Correction to Obs:  -0.0000158939\n",
    "- Correction to Obs:  -0.0000006416\n",
    "-  Final value  :    0.0297659 \n",
    " \n",
    "<u>  Summary </u>\n",
    "\n",
    " - 0nuGT :   -5.0625326 \n",
    " - 0nuFermi :   -2.0510296 \n",
    " - 0nuTensor :    0.0691129 "
   ]
  },
  {
   "cell_type": "markdown",
   "metadata": {},
   "source": [
    "# eMax10\n",
    "\n",
    " - Ground-state energy :  -28.3852033\n",
    "\n",
    " - Rms**2 :    4.1751178\n",
    " - Rms :    2.0433105\n",
    " - RmsNeutron**2 :    4.8929856\n",
    " - RmsNeutron :    2.2120094\n",
    " - RmsProton**2 :    2.7393843\n",
    " - RmsProton :    1.6551085\n",
    " \n",
    " \n",
    " BCH expansion\n",
    " \n",
    " GT\n",
    " \n",
    "- Initial value  :   -3.2138818 \n",
    "- Correction to Obs:  -0.2858279148\n",
    "- Correction to Obs:  -0.0148225585\n",
    "- Correction to Obs:  -0.0016325963\n",
    "- Correction to Obs:  -0.0001343675\n",
    "- Correction to Obs:  -0.0000079113\n",
    "-  Final value  :   -3.5163072 \n",
    "                      \n",
    "*********************************** \n",
    "\n",
    "FM\n",
    "\n",
    "- Initial value  :   -0.8366317 \n",
    "- Correction to Obs:  -0.0473139535\n",
    "- Correction to Obs:  -0.0032784022\n",
    "- Correction to Obs:  -0.0007478017\n",
    "- Correction to Obs:  -0.0000534543\n",
    "- Correction to Obs:  -0.0000039017\n",
    "-  Final value  :   -0.8880292 \n",
    "                      \n",
    "*********************************** \n",
    "\n",
    "Tensor\n",
    "\n",
    "-  Initial value  :    0.0434701 \n",
    "- Correction to Obs:  -0.0108767905\n",
    "- Correction to Obs:  -0.0016938569\n",
    "- Correction to Obs:  -0.0000532944\n",
    "- Correction to Obs:  -0.0000237833\n",
    "- Correction to Obs:  -0.0000004426\n",
    "-  Final value  :    0.0308219 \n",
    " \n",
    " \n",
    " <u> Summary </u>\n",
    "\n",
    "- 0nuGT :   -3.5163072 \n",
    "- 0nuFermi :   -0.8880292 \n",
    "- 0nuTensor :    0.0308219 "
   ]
  },
  {
   "cell_type": "markdown",
   "metadata": {},
   "source": [
    "# eMax12\n",
    "\n",
    "\n",
    "- Ground-state energy  :  -28.4344960\n",
    "\n",
    "- Rms**2 :    4.2448789\n",
    "- Rms :    2.0603104\n",
    "- RmsNeutron**2 :    4.9902053\n",
    "- RmsNeutron :    2.2338767\n",
    "- RmsProton**2 :    2.7542261\n",
    "- RmsProton :    1.6595861\n",
    "\n",
    "\n",
    "\n",
    "GT\n",
    "\n",
    "-  Initial value  :   -3.1295500\n",
    "- Correction to Obs:  -0.4115445670\n",
    "- Correction to Obs:  -0.1068523940\n",
    "- Correction to Obs:  -0.0060515005\n",
    "- Correction to Obs:  -0.0006639188\n",
    "- Correction to Obs:  -0.0000287283\n",
    "-  Final value  :   -3.6546911\n",
    "\n",
    "***********************************\n",
    "\n",
    "FM\n",
    "\n",
    " O     -> { M^(0nu) }\n",
    "-  Initial value  :   -0.8236420\n",
    "- Correction to Obs:  -0.0645626336\n",
    "- Correction to Obs:  -0.0214657232\n",
    "- Correction to Obs:  -0.0011524801\n",
    "- Correction to Obs:  -0.0001305518\n",
    "- Correction to Obs:  -0.0000054904\n",
    " - Final value  :   -0.9109589\n",
    "\n",
    "***********************************\n",
    "\n",
    "Tensor\n",
    "\n",
    " O     -> { M^(0nu) }\n",
    "- Initial value  :    0.0449287\n",
    "- Correction to Obs:  -0.0111457148\n",
    "- Correction to Obs:  -0.0018281680\n",
    "- Correction to Obs:  -0.0002611226\n",
    "- Correction to Obs:  -0.0000167795\n",
    "- Correction to Obs:  -0.0000010309\n",
    "-  Final value  :    0.0316759\n",
    " \n",
    " <u> Summary </u>\n",
    " \n",
    " \n",
    "- 0nuGT :    -3.6546911  \n",
    "- 0nuFermi :   -0.9109589\n",
    "- 0nuTensor :    0.0316759    \n",
    "\n",
    "\n",
    "\n",
    "\n",
    "\n"
   ]
  },
  {
   "cell_type": "code",
   "execution_count": 3,
   "metadata": {},
   "outputs": [],
   "source": [
    "# eMax14\n",
    " "
   ]
  },
  {
   "cell_type": "markdown",
   "metadata": {},
   "source": [
    "# Build a dataframe for the data"
   ]
  },
  {
   "cell_type": "code",
   "execution_count": 4,
   "metadata": {},
   "outputs": [
    {
     "data": {
      "text/html": [
       "<div>\n",
       "<style scoped>\n",
       "    .dataframe tbody tr th:only-of-type {\n",
       "        vertical-align: middle;\n",
       "    }\n",
       "\n",
       "    .dataframe tbody tr th {\n",
       "        vertical-align: top;\n",
       "    }\n",
       "\n",
       "    .dataframe thead th {\n",
       "        text-align: right;\n",
       "    }\n",
       "</style>\n",
       "<table border=\"1\" class=\"dataframe\">\n",
       "  <thead>\n",
       "    <tr style=\"text-align: right;\">\n",
       "      <th></th>\n",
       "      <th>eMax</th>\n",
       "      <th>Energy (MeV)</th>\n",
       "      <th>rn (fm)</th>\n",
       "      <th>rp (fm)</th>\n",
       "      <th>rm (fm)</th>\n",
       "      <th>FM</th>\n",
       "      <th>GT</th>\n",
       "      <th>Tensor</th>\n",
       "    </tr>\n",
       "  </thead>\n",
       "  <tbody>\n",
       "    <tr>\n",
       "      <th>0</th>\n",
       "      <td>2.0</td>\n",
       "      <td>-20.8100</td>\n",
       "      <td>1.9593</td>\n",
       "      <td>1.5851</td>\n",
       "      <td>1.84310</td>\n",
       "      <td>-1.043067</td>\n",
       "      <td>-4.050792</td>\n",
       "      <td>0.070786</td>\n",
       "    </tr>\n",
       "    <tr>\n",
       "      <th>1</th>\n",
       "      <td>4.0</td>\n",
       "      <td>-26.0370</td>\n",
       "      <td>2.0742</td>\n",
       "      <td>1.6291</td>\n",
       "      <td>1.93720</td>\n",
       "      <td>-0.981156</td>\n",
       "      <td>-3.850178</td>\n",
       "      <td>0.112800</td>\n",
       "    </tr>\n",
       "    <tr>\n",
       "      <th>2</th>\n",
       "      <td>6.0</td>\n",
       "      <td>-27.7520</td>\n",
       "      <td>2.1358</td>\n",
       "      <td>1.6392</td>\n",
       "      <td>1.98410</td>\n",
       "      <td>-0.933483</td>\n",
       "      <td>-3.652637</td>\n",
       "      <td>0.046953</td>\n",
       "    </tr>\n",
       "    <tr>\n",
       "      <th>3</th>\n",
       "      <td>8.0</td>\n",
       "      <td>-28.2396</td>\n",
       "      <td>2.1800</td>\n",
       "      <td>1.6477</td>\n",
       "      <td>2.01824</td>\n",
       "      <td>-0.939966</td>\n",
       "      <td>-3.817196</td>\n",
       "      <td>0.029766</td>\n",
       "    </tr>\n",
       "    <tr>\n",
       "      <th>4</th>\n",
       "      <td>10.0</td>\n",
       "      <td>-28.3852</td>\n",
       "      <td>2.2120</td>\n",
       "      <td>1.6551</td>\n",
       "      <td>2.04330</td>\n",
       "      <td>-0.888029</td>\n",
       "      <td>-3.516307</td>\n",
       "      <td>0.030822</td>\n",
       "    </tr>\n",
       "    <tr>\n",
       "      <th>5</th>\n",
       "      <td>12.0</td>\n",
       "      <td>-28.4345</td>\n",
       "      <td>2.2339</td>\n",
       "      <td>1.6596</td>\n",
       "      <td>2.06030</td>\n",
       "      <td>-0.910959</td>\n",
       "      <td>-3.654691</td>\n",
       "      <td>0.031676</td>\n",
       "    </tr>\n",
       "  </tbody>\n",
       "</table>\n",
       "</div>"
      ],
      "text/plain": [
       "   eMax  Energy (MeV)  rn (fm)  rp (fm)  rm (fm)        FM        GT    Tensor\n",
       "0   2.0      -20.8100   1.9593   1.5851  1.84310 -1.043067 -4.050792  0.070786\n",
       "1   4.0      -26.0370   2.0742   1.6291  1.93720 -0.981156 -3.850178  0.112800\n",
       "2   6.0      -27.7520   2.1358   1.6392  1.98410 -0.933483 -3.652637  0.046953\n",
       "3   8.0      -28.2396   2.1800   1.6477  2.01824 -0.939966 -3.817196  0.029766\n",
       "4  10.0      -28.3852   2.2120   1.6551  2.04330 -0.888029 -3.516307  0.030822\n",
       "5  12.0      -28.4345   2.2339   1.6596  2.06030 -0.910959 -3.654691  0.031676"
      ]
     },
     "execution_count": 4,
     "metadata": {},
     "output_type": "execute_result"
    }
   ],
   "source": [
    "IMSRG = pd.DataFrame(columns=[\"eMax\", \"Energy (MeV)\", \"rn (fm)\", \"rp (fm)\", \"rm (fm)\", \"FM\",\"GT\",\"Tensor\"])\n",
    "IMSRG.loc[0] = [2,-20.810,1.9593,  1.5851,  1.8431,-1.0430670 ,-4.0507919,0.0707864] \n",
    "IMSRG.loc[1] = [4,-26.037,2.0742,1.6291,1.9372,-0.9811557,-3.8501782,0.1128] \n",
    "IMSRG.loc[2] = [6,-27.7520,2.1358,1.6392,1.9841,-0.9334826,-3.6526373,0.0469534] \n",
    "IMSRG.loc[3] = [8,-28.2396,2.1800,1.6477,2.01824,-0.9399663 ,-3.817196,0.0297659 ] \n",
    "IMSRG.loc[4] = [10,-28.3852,2.2120,1.6551,2.0433,-0.8880292,-3.5163072,0.0308219] \n",
    "IMSRG.loc[5] = [12,-28.4345,2.2339,1.6596,2.0603,-0.9109589,-3.6546911,0.0316759]  \n",
    "IMSRG\n",
    "\n",
    "   "
   ]
  },
  {
   "cell_type": "code",
   "execution_count": 5,
   "metadata": {},
   "outputs": [
    {
     "data": {
      "text/plain": [
       "-4.5339741"
      ]
     },
     "execution_count": 5,
     "metadata": {},
     "output_type": "execute_result"
    }
   ],
   "source": [
    "IMSRG['GT'].loc[5]+IMSRG['FM'].loc[5]+IMSRG['Tensor'].loc[5]"
   ]
  },
  {
   "cell_type": "code",
   "execution_count": 6,
   "metadata": {},
   "outputs": [
    {
     "data": {
      "text/html": [
       "<div>\n",
       "<style scoped>\n",
       "    .dataframe tbody tr th:only-of-type {\n",
       "        vertical-align: middle;\n",
       "    }\n",
       "\n",
       "    .dataframe tbody tr th {\n",
       "        vertical-align: top;\n",
       "    }\n",
       "\n",
       "    .dataframe thead th {\n",
       "        text-align: right;\n",
       "    }\n",
       "</style>\n",
       "<table border=\"1\" class=\"dataframe\">\n",
       "  <thead>\n",
       "    <tr style=\"text-align: right;\">\n",
       "      <th></th>\n",
       "      <th>eMax</th>\n",
       "      <th>FM_wo</th>\n",
       "      <th>GT_wo</th>\n",
       "      <th>Tensor_wo</th>\n",
       "      <th>FM_w</th>\n",
       "      <th>GT_w</th>\n",
       "      <th>Tensor_w</th>\n",
       "    </tr>\n",
       "  </thead>\n",
       "  <tbody>\n",
       "    <tr>\n",
       "      <th>0</th>\n",
       "      <td>2.0</td>\n",
       "      <td>-0.982528</td>\n",
       "      <td>-3.661489</td>\n",
       "      <td>0.064883</td>\n",
       "      <td>-0.992489</td>\n",
       "      <td>-3.731680</td>\n",
       "      <td>0.062687</td>\n",
       "    </tr>\n",
       "    <tr>\n",
       "      <th>1</th>\n",
       "      <td>4.0</td>\n",
       "      <td>-0.948022</td>\n",
       "      <td>-3.495412</td>\n",
       "      <td>0.066455</td>\n",
       "      <td>-0.932740</td>\n",
       "      <td>-3.598887</td>\n",
       "      <td>0.049250</td>\n",
       "    </tr>\n",
       "    <tr>\n",
       "      <th>2</th>\n",
       "      <td>6.0</td>\n",
       "      <td>-0.885629</td>\n",
       "      <td>-3.376077</td>\n",
       "      <td>0.051906</td>\n",
       "      <td>-0.885222</td>\n",
       "      <td>-3.398230</td>\n",
       "      <td>0.047080</td>\n",
       "    </tr>\n",
       "    <tr>\n",
       "      <th>3</th>\n",
       "      <td>8.0</td>\n",
       "      <td>0.000000</td>\n",
       "      <td>0.000000</td>\n",
       "      <td>0.000000</td>\n",
       "      <td>-0.858429</td>\n",
       "      <td>-3.306419</td>\n",
       "      <td>0.044348</td>\n",
       "    </tr>\n",
       "    <tr>\n",
       "      <th>4</th>\n",
       "      <td>10.0</td>\n",
       "      <td>0.000000</td>\n",
       "      <td>0.000000</td>\n",
       "      <td>0.000000</td>\n",
       "      <td>-0.836632</td>\n",
       "      <td>-3.213882</td>\n",
       "      <td>0.043470</td>\n",
       "    </tr>\n",
       "    <tr>\n",
       "      <th>5</th>\n",
       "      <td>12.0</td>\n",
       "      <td>0.000000</td>\n",
       "      <td>0.000000</td>\n",
       "      <td>0.000000</td>\n",
       "      <td>-0.823642</td>\n",
       "      <td>-3.129550</td>\n",
       "      <td>0.044929</td>\n",
       "    </tr>\n",
       "  </tbody>\n",
       "</table>\n",
       "</div>"
      ],
      "text/plain": [
       "   eMax     FM_wo     GT_wo  Tensor_wo      FM_w      GT_w  Tensor_w\n",
       "0   2.0 -0.982528 -3.661489   0.064883 -0.992489 -3.731680  0.062687\n",
       "1   4.0 -0.948022 -3.495412   0.066455 -0.932740 -3.598887  0.049250\n",
       "2   6.0 -0.885629 -3.376077   0.051906 -0.885222 -3.398230  0.047080\n",
       "3   8.0  0.000000  0.000000   0.000000 -0.858429 -3.306419  0.044348\n",
       "4  10.0  0.000000  0.000000   0.000000 -0.836632 -3.213882  0.043470\n",
       "5  12.0  0.000000  0.000000   0.000000 -0.823642 -3.129550  0.044929"
      ]
     },
     "execution_count": 6,
     "metadata": {},
     "output_type": "execute_result"
    }
   ],
   "source": [
    "PNP=pd.DataFrame(columns=[\"eMax\", \"FM_wo\",\"GT_wo\",\"Tensor_wo\",\"FM_w\",\"GT_w\",\"Tensor_w\"])\n",
    "PNP.loc[0] = [2,-0.982528, -3.66148928,0.06488328, -0.9924887, -3.7316796,0.0626875] \n",
    "PNP.loc[1] = [4,-0.94802241, -3.49541197,0.06645481, -0.9327399, -3.5988869,0.0492498] \n",
    "PNP.loc[2] = [6, -0.8856293, -3.37607693, 0.05190612, -0.8852220,-3.3982300,0.0470802] \n",
    "PNP.loc[3] = [8, 0,0 ,0 , -0.8584295,-3.3064186,0.0443481 ] \n",
    "PNP.loc[4] = [10, 0, 0, 0, -0.8366317,-3.2138818,0.0434701]\n",
    "PNP.loc[5] = [12, 0, 0, 0, -0.8236420,-3.1295500,0.0449287]  \n",
    "         \n",
    "PNP\n",
    "# wo: without using isospin symmetry "
   ]
  },
  {
   "cell_type": "code",
   "execution_count": 7,
   "metadata": {},
   "outputs": [
    {
     "data": {
      "text/html": [
       "<div>\n",
       "<style scoped>\n",
       "    .dataframe tbody tr th:only-of-type {\n",
       "        vertical-align: middle;\n",
       "    }\n",
       "\n",
       "    .dataframe tbody tr th {\n",
       "        vertical-align: top;\n",
       "    }\n",
       "\n",
       "    .dataframe thead th {\n",
       "        text-align: right;\n",
       "    }\n",
       "</style>\n",
       "<table border=\"1\" class=\"dataframe\">\n",
       "  <thead>\n",
       "    <tr style=\"text-align: right;\">\n",
       "      <th></th>\n",
       "      <th>eMax</th>\n",
       "      <th>Energy (MeV)</th>\n",
       "      <th>rn (fm)</th>\n",
       "      <th>rp (fm)</th>\n",
       "      <th>rm (fm)</th>\n",
       "      <th>FM</th>\n",
       "      <th>GT</th>\n",
       "      <th>Tensor</th>\n",
       "      <th>eMax</th>\n",
       "      <th>FM_wo</th>\n",
       "      <th>GT_wo</th>\n",
       "      <th>Tensor_wo</th>\n",
       "      <th>FM_w</th>\n",
       "      <th>GT_w</th>\n",
       "      <th>Tensor_w</th>\n",
       "    </tr>\n",
       "  </thead>\n",
       "  <tbody>\n",
       "    <tr>\n",
       "      <th>0</th>\n",
       "      <td>2.0</td>\n",
       "      <td>-20.8100</td>\n",
       "      <td>1.9593</td>\n",
       "      <td>1.5851</td>\n",
       "      <td>1.84310</td>\n",
       "      <td>-1.043067</td>\n",
       "      <td>-4.050792</td>\n",
       "      <td>0.070786</td>\n",
       "      <td>2.0</td>\n",
       "      <td>-0.982528</td>\n",
       "      <td>-3.661489</td>\n",
       "      <td>0.064883</td>\n",
       "      <td>-0.992489</td>\n",
       "      <td>-3.731680</td>\n",
       "      <td>0.062687</td>\n",
       "    </tr>\n",
       "    <tr>\n",
       "      <th>1</th>\n",
       "      <td>4.0</td>\n",
       "      <td>-26.0370</td>\n",
       "      <td>2.0742</td>\n",
       "      <td>1.6291</td>\n",
       "      <td>1.93720</td>\n",
       "      <td>-0.981156</td>\n",
       "      <td>-3.850178</td>\n",
       "      <td>0.112800</td>\n",
       "      <td>4.0</td>\n",
       "      <td>-0.948022</td>\n",
       "      <td>-3.495412</td>\n",
       "      <td>0.066455</td>\n",
       "      <td>-0.932740</td>\n",
       "      <td>-3.598887</td>\n",
       "      <td>0.049250</td>\n",
       "    </tr>\n",
       "    <tr>\n",
       "      <th>2</th>\n",
       "      <td>6.0</td>\n",
       "      <td>-27.7520</td>\n",
       "      <td>2.1358</td>\n",
       "      <td>1.6392</td>\n",
       "      <td>1.98410</td>\n",
       "      <td>-0.933483</td>\n",
       "      <td>-3.652637</td>\n",
       "      <td>0.046953</td>\n",
       "      <td>6.0</td>\n",
       "      <td>-0.885629</td>\n",
       "      <td>-3.376077</td>\n",
       "      <td>0.051906</td>\n",
       "      <td>-0.885222</td>\n",
       "      <td>-3.398230</td>\n",
       "      <td>0.047080</td>\n",
       "    </tr>\n",
       "    <tr>\n",
       "      <th>3</th>\n",
       "      <td>8.0</td>\n",
       "      <td>-28.2396</td>\n",
       "      <td>2.1800</td>\n",
       "      <td>1.6477</td>\n",
       "      <td>2.01824</td>\n",
       "      <td>-0.939966</td>\n",
       "      <td>-3.817196</td>\n",
       "      <td>0.029766</td>\n",
       "      <td>8.0</td>\n",
       "      <td>0.000000</td>\n",
       "      <td>0.000000</td>\n",
       "      <td>0.000000</td>\n",
       "      <td>-0.858429</td>\n",
       "      <td>-3.306419</td>\n",
       "      <td>0.044348</td>\n",
       "    </tr>\n",
       "    <tr>\n",
       "      <th>4</th>\n",
       "      <td>10.0</td>\n",
       "      <td>-28.3852</td>\n",
       "      <td>2.2120</td>\n",
       "      <td>1.6551</td>\n",
       "      <td>2.04330</td>\n",
       "      <td>-0.888029</td>\n",
       "      <td>-3.516307</td>\n",
       "      <td>0.030822</td>\n",
       "      <td>10.0</td>\n",
       "      <td>0.000000</td>\n",
       "      <td>0.000000</td>\n",
       "      <td>0.000000</td>\n",
       "      <td>-0.836632</td>\n",
       "      <td>-3.213882</td>\n",
       "      <td>0.043470</td>\n",
       "    </tr>\n",
       "    <tr>\n",
       "      <th>5</th>\n",
       "      <td>12.0</td>\n",
       "      <td>-28.4345</td>\n",
       "      <td>2.2339</td>\n",
       "      <td>1.6596</td>\n",
       "      <td>2.06030</td>\n",
       "      <td>-0.910959</td>\n",
       "      <td>-3.654691</td>\n",
       "      <td>0.031676</td>\n",
       "      <td>12.0</td>\n",
       "      <td>0.000000</td>\n",
       "      <td>0.000000</td>\n",
       "      <td>0.000000</td>\n",
       "      <td>-0.823642</td>\n",
       "      <td>-3.129550</td>\n",
       "      <td>0.044929</td>\n",
       "    </tr>\n",
       "  </tbody>\n",
       "</table>\n",
       "</div>"
      ],
      "text/plain": [
       "   eMax  Energy (MeV)  rn (fm)  rp (fm)  rm (fm)        FM        GT  \\\n",
       "0   2.0      -20.8100   1.9593   1.5851  1.84310 -1.043067 -4.050792   \n",
       "1   4.0      -26.0370   2.0742   1.6291  1.93720 -0.981156 -3.850178   \n",
       "2   6.0      -27.7520   2.1358   1.6392  1.98410 -0.933483 -3.652637   \n",
       "3   8.0      -28.2396   2.1800   1.6477  2.01824 -0.939966 -3.817196   \n",
       "4  10.0      -28.3852   2.2120   1.6551  2.04330 -0.888029 -3.516307   \n",
       "5  12.0      -28.4345   2.2339   1.6596  2.06030 -0.910959 -3.654691   \n",
       "\n",
       "     Tensor  eMax     FM_wo     GT_wo  Tensor_wo      FM_w      GT_w  Tensor_w  \n",
       "0  0.070786   2.0 -0.982528 -3.661489   0.064883 -0.992489 -3.731680  0.062687  \n",
       "1  0.112800   4.0 -0.948022 -3.495412   0.066455 -0.932740 -3.598887  0.049250  \n",
       "2  0.046953   6.0 -0.885629 -3.376077   0.051906 -0.885222 -3.398230  0.047080  \n",
       "3  0.029766   8.0  0.000000  0.000000   0.000000 -0.858429 -3.306419  0.044348  \n",
       "4  0.030822  10.0  0.000000  0.000000   0.000000 -0.836632 -3.213882  0.043470  \n",
       "5  0.031676  12.0  0.000000  0.000000   0.000000 -0.823642 -3.129550  0.044929  "
      ]
     },
     "execution_count": 7,
     "metadata": {},
     "output_type": "execute_result"
    }
   ],
   "source": [
    "All = pd.concat([IMSRG,PNP],axis=1)\n",
    "All"
   ]
  },
  {
   "cell_type": "code",
   "execution_count": 63,
   "metadata": {},
   "outputs": [
    {
     "data": {
      "text/plain": [
       "Text(0.5,1,'Correlation effects')"
      ]
     },
     "execution_count": 63,
     "metadata": {},
     "output_type": "execute_result"
    },
    {
     "data": {
      "image/png": "[encoded data removed]",
      "text/plain": [
       "<Figure size 576x432 with 1 Axes>"
      ]
     },
     "metadata": {},
     "output_type": "display_data"
    }
   ],
   "source": [
    "plt.plot(IMSRG['eMax'],-100*(PNP['GT_w']-IMSRG['GT'])/IMSRG['GT'],'-d',c='r',ms=16,label='GT')\n",
    "plt.plot(IMSRG['eMax'],-100*(PNP['FM_w']-IMSRG['FM'])/IMSRG['FM'],'-^',c='b',ms=16,label='Fermi')\n",
    "#plt.plot(IMSRG['eMax'],100*(PNP['Tensor_w']-IMSRG['Tensor'])/IMSRG['Tensor'],'-v',c='g',ms=16,label='Tensor')\n",
    "\n",
    "set_figstyle(1,13,0,20,'eMax',r'$\\delta M^{0\\nu}/M^{0\\nu}$[%]')\n",
    "plt.xticks(list(range(0,14,2)))\n",
    "plt.legend(fontsize=20)\n",
    "plt.text(2,17,'IMSRG(2)',fontsize=fs)\n",
    "plt.text(2,15,'NN(EM500/2.0)',fontsize=fs)\n",
    "plt.text(2,13,r'$\\hbar\\Omega=20$ MeV',fontsize=fs)\n",
    "plt.title('Correlation effects',fontsize=fs)\n",
    " \n"
   ]
  },
  {
   "cell_type": "code",
   "execution_count": 26,
   "metadata": {},
   "outputs": [
    {
     "data": {
      "text/plain": [
       "Text(0.5,1,'with/without using isospin symmetry')"
      ]
     },
     "execution_count": 26,
     "metadata": {},
     "output_type": "execute_result"
    },
    {
     "data": {
      "image/png": "[encoded data removed]",
      "text/plain": [
       "<Figure size 576x432 with 1 Axes>"
      ]
     },
     "metadata": {},
     "output_type": "display_data"
    }
   ],
   "source": [
    "plt.plot(PNP['eMax'],-PNP['GT_wo'],':d',c='r',ms=16,mfc='none',label='GT(w/o)')\n",
    "plt.plot(PNP['eMax'],-PNP['FM_wo'],':^',c='b',ms=16,mfc='none',label='Fermi(w/o)')\n",
    "plt.plot(PNP['eMax'],-PNP['Tensor_wo'],':v',c='g',ms=16,mfc='none',label='Tensor(w/o)')\n",
    "\n",
    "plt.plot(PNP['eMax'],-PNP['GT_w'],'-d',c='r',ms=16,label='GT(w)')\n",
    "plt.plot(PNP['eMax'],-PNP['FM_w'],'-^',c='b',ms=16,label='Fermi(w)')\n",
    "plt.plot(PNP['eMax'],-PNP['Tensor_w'],'-v',c='g',ms=16,label='Tensor(w)')\n",
    "\n",
    "set_figstyle(1,13,-0.5,4.5,'eMax',r'$M^{0\\nu}$')\n",
    "plt.xticks(list(range(0,14,2)))\n",
    "plt.legend(fontsize=20)\n",
    "plt.text(2,2.5,'NN(EM500/2.0)',fontsize=fs)\n",
    "plt.text(2,3,'PNP',fontsize=fs)\n",
    "plt.text(2,2,r'$\\hbar\\Omega=20$ MeV',fontsize=fs)\n",
    "plt.title('with/without using isospin symmetry',fontsize=20)\n",
    "\n"
   ]
  },
  {
   "cell_type": "code",
   "execution_count": 66,
   "metadata": {},
   "outputs": [
    {
     "data": {
      "text/plain": [
       "Text(0.5,1,'$^{6}$He $\\\\to$ $^{6}$Be')"
      ]
     },
     "execution_count": 66,
     "metadata": {},
     "output_type": "execute_result"
    },
    {
     "data": {
      "image/png": "[encoded data removed]",
      "text/plain": [
       "<Figure size 576x432 with 1 Axes>"
      ]
     },
     "metadata": {},
     "output_type": "display_data"
    }
   ],
   "source": [
    "plt.plot(IMSRG['eMax'],-IMSRG['GT'],'-d',c='r',ms=16,label='GT')\n",
    "plt.plot(IMSRG['eMax'],-IMSRG['FM'],'-^',c='b',ms=16,label='Fermi')\n",
    "plt.plot(IMSRG['eMax'],-IMSRG['Tensor'],'-v',c='g',ms=16,label='Tensor')\n",
    "\n",
    "set_figstyle(1,13,-0.5,4.5,'eMax',r'$M^{0\\nu}$')\n",
    "plt.xticks(list(range(0,14,2)))\n",
    "plt.legend(fontsize=20)\n",
    "plt.text(2,2.5,'NN(EM500/2.0)',fontsize=fs)\n",
    "plt.text(2,3,'IMSRG(2)',fontsize=fs)\n",
    "plt.text(2,2,r'$\\hbar\\Omega=20$ MeV',fontsize=fs)\n",
    "\n",
    "\n",
    "plt.title(r'$^{6}$He $\\to$ $^{6}$Be', fontsize=30)"
   ]
  },
  {
   "cell_type": "code",
   "execution_count": 20,
   "metadata": {},
   "outputs": [
    {
     "data": {
      "image/png": "[encoded data removed]",
      "text/plain": [
       "<Figure size 576x432 with 1 Axes>"
      ]
     },
     "metadata": {},
     "output_type": "display_data"
    }
   ],
   "source": [
    "IMSRG.plot(kind='scatter',x='eMax',y='Energy (MeV)',figsize=(8,6),fontsize=24,s=100,c='k',marker='o')\n",
    "plt.xlabel('eMax',fontsize=24)\n",
    "plt.ylabel('Energy (MeV)',fontsize=24)\n",
    "plt.xlim(0,14)\n",
    "plt.ylim(-32,-15)\n",
    "\n",
    "\n",
    "plt.gca().yaxis.set_major_locator(ticker.MultipleLocator(2))\n",
    "plt.gca().yaxis.set_minor_locator(ticker.MultipleLocator(1))\n",
    "\n",
    "\n",
    "plt.gca().xaxis.set_major_locator(ticker.MultipleLocator(2))\n",
    "plt.gca().xaxis.set_minor_locator(ticker.MultipleLocator(1))\n",
    "\n",
    "plt.tick_params(which='major',direction='in',length=10,labelsize=20)\n",
    "plt.tick_params(which='minor',direction='in',length=5,labelsize=20)"
   ]
  },
  {
   "cell_type": "markdown",
   "metadata": {},
   "source": [
    "# Extrapolation for energy and radius\n",
    "\n",
    "Ref: R. J. Furnstahl, G. Hagen, T. Papenbrock, PRC (2012)\n",
    "\n",
    "$$\n",
    "E(e_{\\rm max},\\hbar\\Omega) = E_{\\infty} + A_0 e^{-\\Lambda^2_{UV}/A^2_1} +A_2 e^{-2k_\\infty L_{IR}}\n",
    "$$\n",
    "\n",
    "where \n",
    "\n",
    "\\begin{align}  \n",
    "\\Lambda_{UV} &= \\sqrt{(2e_{\\rm max}+7) } \\hbar/a_{HO},\\\\\n",
    "L_{IR} &= \\sqrt{(2e_{\\rm max}+7)}/a_{HO},\\\\\n",
    "\\end{align}\n",
    "\n",
    "with $a_{HO}=\\sqrt{\\hbar/m\\Omega}$\n",
    "\n",
    "\n",
    "\n",
    "# Radius\n",
    "\n",
    "\n",
    "$$\n",
    "<r^2>_L = <r^2>_0 \\left[1-(c_0\\beta^3+c_1\\beta)e^{-\\beta}\\right],\n",
    "$$\n",
    "where $\\beta=2k_\\infty L_{IR}\\propto \\sqrt{2e_{\\rm Max}+7}$.\n"
   ]
  },
  {
   "cell_type": "code",
   "execution_count": 21,
   "metadata": {},
   "outputs": [],
   "source": [
    "from scipy.optimize import curve_fit\n",
    "\"' constants'\"\n",
    "hbc = 197.328284\n",
    "amu = 939.0\n",
    "\n",
    "\n",
    "def aHO(hw):\n",
    "    aH0 = np.sqrt(hbc*hbc/(amu*hw))\n",
    "    return aH0\n",
    "\n",
    "def energy(emax,e0,a0,a1,a2,k0):\n",
    "    LUV = np.sqrt(2*emax+7)/aHO(20)\n",
    "    LIR = np.sqrt(2*emax+7)*aHO(20)\n",
    "    return e0+a0*np.exp(-LUV**2/a1**2)+a2*np.exp(-2*k0*LIR)\n",
    "\n",
    "def R2(x, R20,c0,c1,c2):\n",
    "    x = np.sqrt(2*x+7)\n",
    "    return R20*(1.0 - (c0*x**3+c1*x)*np.exp(-c2*x) )\n"
   ]
  },
  {
   "cell_type": "code",
   "execution_count": 9,
   "metadata": {},
   "outputs": [
    {
     "name": "stderr",
     "output_type": "stream",
     "text": [
      "/anaconda3/lib/python3.6/site-packages/ipykernel_launcher.py:14: RuntimeWarning: overflow encountered in exp\n",
      "  \n",
      "/anaconda3/lib/python3.6/site-packages/scipy/optimize/minpack.py:787: OptimizeWarning: Covariance of the parameters could not be estimated\n",
      "  category=OptimizeWarning)\n"
     ]
    }
   ],
   "source": [
    "\"' Data'\"\n",
    "\n",
    "eMax = IMSRG['eMax'].values\n",
    "Egs  = IMSRG['Energy (MeV)'].values\n",
    "\n",
    "Epopt,Epcov=curve_fit(energy,eMax,Egs)"
   ]
  },
  {
   "cell_type": "code",
   "execution_count": 10,
   "metadata": {},
   "outputs": [
    {
     "data": {
      "text/plain": [
       "array([  -28.47142786,   184.60319071,    -1.29132964, -1200.51960325,\n",
       "         131.64221615])"
      ]
     },
     "execution_count": 10,
     "metadata": {},
     "output_type": "execute_result"
    }
   ],
   "source": [
    "Epopt"
   ]
  },
  {
   "cell_type": "code",
   "execution_count": 11,
   "metadata": {},
   "outputs": [
    {
     "data": {
      "text/plain": [
       "Text(16,-22,'$^{6}$He')"
      ]
     },
     "execution_count": 11,
     "metadata": {},
     "output_type": "execute_result"
    },
    {
     "data": {
      "image/png": "[encoded data removed]",
      "text/plain": [
       "<Figure size 576x432 with 1 Axes>"
      ]
     },
     "metadata": {},
     "output_type": "display_data"
    }
   ],
   "source": [
    "plt.scatter(eMax,Egs,c='k')\n",
    "\n",
    "x_pred=np.linspace(0,20,100)\n",
    "plt.plot(x_pred, energy(x_pred, *Epopt),c='r')\n",
    "\n",
    "plt.ylim(-30,-14)\n",
    "plt.gca().yaxis.set_major_locator(ticker.MultipleLocator(2))\n",
    "plt.gca().yaxis.set_minor_locator(ticker.MultipleLocator(1))\n",
    "\n",
    "plt.xlim(0,20)\n",
    "plt.tick_params(which='major',direction='in',labelsize=16,length=8)\n",
    "plt.tick_params(which='minor',direction='in',labelsize=16,length=4)\n",
    "\n",
    "plt.gca().xaxis.set_major_locator(ticker.MultipleLocator(2))\n",
    "plt.gca().xaxis.set_minor_locator(ticker.MultipleLocator(1))\n",
    "\n",
    "plt.ylabel('E (MeV)',fontsize=20)\n",
    "plt.xlabel(' eMax',fontsize=20)\n",
    "\n",
    "plt.legend([r'Fit ($E_{\\infty}=-28.471$)','IMSRG (EM/2.0)'],fontsize=16)\n",
    "plt.text(16,-22,r'$^{6}$He',fontsize=24)"
   ]
  },
  {
   "cell_type": "code",
   "execution_count": 22,
   "metadata": {},
   "outputs": [
    {
     "data": {
      "text/plain": [
       "array([5.2829039 , 0.06855174, 2.33572937, 1.0936796 ])"
      ]
     },
     "execution_count": 22,
     "metadata": {},
     "output_type": "execute_result"
    }
   ],
   "source": [
    "rnpopt,rnpcov=curve_fit(R2,IMSRG['eMax'].values,IMSRG['rn (fm)'].values*IMSRG['rn (fm)'].values)\n",
    "rnpopt"
   ]
  },
  {
   "cell_type": "code",
   "execution_count": 23,
   "metadata": {},
   "outputs": [
    {
     "data": {
      "text/plain": [
       "array([2.75772315, 0.16138117, 6.40788353, 1.72861049])"
      ]
     },
     "execution_count": 23,
     "metadata": {},
     "output_type": "execute_result"
    }
   ],
   "source": [
    "rppopt,rppcov=curve_fit(R2,IMSRG['eMax'].values,IMSRG['rp (fm)'].values*IMSRG['rp (fm)'].values)\n",
    "rppopt"
   ]
  },
  {
   "cell_type": "code",
   "execution_count": 24,
   "metadata": {},
   "outputs": [
    {
     "data": {
      "text/plain": [
       "array([4.43055221, 0.06673721, 2.31804379, 1.13819497])"
      ]
     },
     "execution_count": 24,
     "metadata": {},
     "output_type": "execute_result"
    }
   ],
   "source": [
    "rmpopt,rmpcov=curve_fit(R2,IMSRG['eMax'].values,IMSRG['rm (fm)'].values*IMSRG['rm (fm)'].values)\n",
    "rmpopt"
   ]
  },
  {
   "cell_type": "code",
   "execution_count": 25,
   "metadata": {},
   "outputs": [
    {
     "data": {
      "text/plain": [
       "Text(2,2.8,'$^{6}$He')"
      ]
     },
     "execution_count": 25,
     "metadata": {},
     "output_type": "execute_result"
    },
    {
     "data": {
      "image/png": "[encoded data removed]",
      "text/plain": [
       "<Figure size 576x432 with 1 Axes>"
      ]
     },
     "metadata": {},
     "output_type": "display_data"
    }
   ],
   "source": [
    "plt.scatter(IMSRG['eMax'].values,IMSRG['rn (fm)'].values,c='k')\n",
    "plt.scatter(IMSRG['eMax'].values,IMSRG['rp (fm)'].values,c='k')\n",
    "plt.scatter(IMSRG['eMax'].values,IMSRG['rm (fm)'].values,c='k')\n",
    "\n",
    "x_pred=np.linspace(2,20,100)\n",
    "plt.plot(x_pred, np.sqrt(R2(x_pred, *rnpopt)),'-',c='r')\n",
    "plt.plot(x_pred, np.sqrt(R2(x_pred, *rppopt)),'-.',c='g')\n",
    "plt.plot(x_pred, np.sqrt(R2(x_pred, *rmpopt)),'--',c='b');\n",
    "\n",
    "plt.ylim(1.2,3.2)\n",
    "plt.gca().yaxis.set_major_locator(ticker.MultipleLocator(0.4))\n",
    "plt.gca().yaxis.set_minor_locator(ticker.MultipleLocator(0.2))\n",
    "\n",
    "plt.xlim(0,20)\n",
    "plt.tick_params(which='major',direction='in',labelsize=16,length=8)\n",
    "plt.tick_params(which='minor',direction='in',labelsize=16,length=4)\n",
    "\n",
    "plt.gca().xaxis.set_major_locator(ticker.MultipleLocator(2))\n",
    "plt.gca().xaxis.set_minor_locator(ticker.MultipleLocator(1))\n",
    "\n",
    "plt.ylabel(r'rms radius (fm)',fontsize=20)\n",
    "plt.xlabel(' eMax',fontsize=20)\n",
    "\n",
    "plt.legend(['neutron (2.23)','proton (1.66)','matter (2.06)','IMSRG (EM/2.0)'],fontsize=14)\n",
    "plt.text(2,2.8,r'$^{6}$He',fontsize=24)"
   ]
  },
  {
   "cell_type": "code",
   "execution_count": null,
   "metadata": {},
   "outputs": [],
   "source": []
  }
 ],
 "metadata": {
  "kernelspec": {
   "display_name": "Python 3",
   "language": "python",
   "name": "python3"
  },
  "language_info": {
   "codemirror_mode": {
    "name": "ipython",
    "version": 3
   },
   "file_extension": ".py",
   "mimetype": "text/x-python",
   "name": "python",
   "nbconvert_exporter": "python",
   "pygments_lexer": "ipython3",
   "version": "3.6.5"
  },
  "toc": {
   "base_numbering": 1,
   "nav_menu": {},
   "number_sections": true,
   "sideBar": true,
   "skip_h1_title": false,
   "title_cell": "Table of Contents",
   "title_sidebar": "Contents",
   "toc_cell": false,
   "toc_position": {},
   "toc_section_display": true,
   "toc_window_display": false
  },
  "varInspector": {
   "cols": {
    "lenName": 16,
    "lenType": 16,
    "lenVar": 40
   },
   "kernels_config": {
    "python": {
     "delete_cmd_postfix": "",
     "delete_cmd_prefix": "del ",
     "library": "var_list.py",
     "varRefreshCmd": "print(var_dic_list())"
    },
    "r": {
     "delete_cmd_postfix": ") ",
     "delete_cmd_prefix": "rm(",
     "library": "var_list.r",
     "varRefreshCmd": "cat(var_dic_list()) "
    }
   },
   "types_to_exclude": [
    "module",
    "function",
    "builtin_function_or_method",
    "instance",
    "_Feature"
   ],
   "window_display": false
  }
 },
 "nbformat": 4,
 "nbformat_minor": 2
}
