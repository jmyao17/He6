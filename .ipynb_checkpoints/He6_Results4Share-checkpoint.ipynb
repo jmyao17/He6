{
 "cells": [
  {
   "cell_type": "markdown",
   "metadata": {},
   "source": [
    "# Benchmark neutrinoless double-beta decay matrix elements in a light nucleus\n",
    "\n",
    "R.A. Basili, J. M. Yao, J. Engel, H. Hergert, M. Lockner, P. Maris, and J.P. Vary\n",
    "\n",
    "\n",
    "- Nuclear models: NCSM, IMSRG\n",
    "- Nuclear interaction: a chiral NN (N$^3$LO/500) interaction evolved by SRG at $\\lambda=2.0$ fm$^{-1}$ \n",
    "- HO basis with $\\hbar\\Omega$=20 MeV\n",
    "- Object: neutrinoless double beta decay  $^{6}$He $\\to$ $^{6}$Be "
   ]
  },
  {
   "cell_type": "code",
   "execution_count": 1,
   "metadata": {},
   "outputs": [],
   "source": [
    "import numpy as np\n",
    "import matplotlib.pyplot as plt\n",
    "import pandas as pd\n",
    " \n",
    "import seaborn as sns\n",
    "from matplotlib.ticker import MultipleLocator, FormatStrFormatter\n",
    "from matplotlib.ticker import AutoMinorLocator\n",
    "import numpy as np\n",
    "import matplotlib.ticker as ticker"
   ]
  },
  {
   "cell_type": "markdown",
   "metadata": {},
   "source": [
    "# Results from the IMSRG calculation"
   ]
  },
  {
   "cell_type": "markdown",
   "metadata": {},
   "source": [
    "## eMax02\n",
    "\n",
    "\n",
    "- Ground-state energy :  -20.8103745\n",
    "\n",
    " \n",
    "- Rms**2 :    3.3968774 \n",
    "- Rms :    1.8430620 \n",
    "- RmsNeutron**2 :    3.8390958 \n",
    "- RmsNeutron :    1.9593611 \n",
    "- RmsProton**2 :    2.5124395 \n",
    "- RmsProton :    1.5850677 \n",
    "\n",
    " O     -> { M^(0nu) (evolved) }\n",
    "- 0nuGT :   -9.2254430 \n",
    "- 0nuFermi :   -2.4314554 \n",
    "- 0nuTensor :    0.1539980 "
   ]
  },
  {
   "cell_type": "markdown",
   "metadata": {},
   "source": [
    "## eMax04\n",
    "\n",
    "\n",
    "- Ground-state energy:  -26.0368481\n",
    "- Rms**2 :    3.7529149 \n",
    "- Rms :    1.9372442 \n",
    "- RmsNeutron**2 :    4.3024013 \n",
    "- RmsNeutron :    2.0742230 \n",
    "- RmsProton**2 :    2.6539422 \n",
    "- RmsProton :    1.6290925 \n",
    " \n",
    " \n",
    "O     -> { M^(0nu) (evolved) }\n",
    "- 0nuGT :   -8.7853843 \n",
    "- 0nuFermi :   -2.2871362 \n",
    "- 0nuTensor :    0.1128330 "
   ]
  },
  {
   "cell_type": "markdown",
   "metadata": {},
   "source": [
    "## eMax06\n",
    "\n",
    "- Ground-state energy :  -27.7520455\n",
    "\n",
    "\n",
    "- Rms**2 :    3.9368477 \n",
    "- Rms :    1.9841491 \n",
    "- RmsNeutron**2 :    4.5618029 \n",
    "- RmsNeutron :    2.1358377 \n",
    "- RmsProton**2 :    2.6869219 \n",
    "- RmsProton :    1.6391833 \n",
    "\n",
    "O     -> { M^(0nu) (evolved) }\n",
    "- 0nuGT :   -8.3479856 \n",
    "- 0nuFermi :   -2.1760072 \n",
    "- 0nuTensor :    0.1026880 \n"
   ]
  },
  {
   "cell_type": "markdown",
   "metadata": {},
   "source": [
    "## eMax08"
   ]
  },
  {
   "cell_type": "markdown",
   "metadata": {},
   "source": [
    "- Ground-state energy  :  -28.2396269  \n",
    "\n",
    "\n",
    "- Rms**2 :    4.0733192   \n",
    "- Rms :    2.0182466 \n",
    "- RmsNeutron**2 :    4.7524972 \n",
    "- RmsNeutron :    2.1800223 \n",
    "- RmsProton**2 :    2.7149641 \n",
    "- RmsProton :    1.6477148 \n",
    "\n",
    "\n",
    " \n",
    " O     -> { M^(0nu) (evolved) }\n",
    " - 0nuGT :   -8.7979617 \n",
    " - 0nuFermi :   -2.2033220 \n",
    " - 0nuTensor :    0.0624368 "
   ]
  },
  {
   "cell_type": "markdown",
   "metadata": {},
   "source": [
    "# eMax10\n",
    "\n",
    " - Ground-state energy :  -28.3852033\n",
    "\n",
    " - Rms**2 :    4.1751178\n",
    " - Rms :    2.0433105\n",
    " - RmsNeutron**2 :    4.8929856\n",
    " - RmsNeutron :    2.2120094\n",
    " - RmsProton**2 :    2.7393843\n",
    " - RmsProton :    1.6551085\n",
    " \n",
    " \n",
    "  O     -> { M^(0nu) (evolved) }\n",
    "- 0nuGT :   -8.0428519 \n",
    "- 0nuFermi :   -2.0700514 \n",
    "- 0nuTensor :    0.0685347 "
   ]
  },
  {
   "cell_type": "markdown",
   "metadata": {},
   "source": [
    "# eMax12\n",
    "\n",
    "\n",
    "- Ground-state energy  :  -28.4344960\n",
    "\n",
    "- Rms**2 :    4.2448789\n",
    "- Rms :    2.0603104\n",
    "- RmsNeutron**2 :    4.9902053\n",
    "- RmsNeutron :    2.2338767\n",
    "- RmsProton**2 :    2.7542261\n",
    "- RmsProton :    1.6595861\n",
    "\n",
    "\n",
    "O     -> { M^(0nu) (evolved) }\n",
    "- 0nuGT :   -8.2345995\n",
    "- 0nuFermi :   -2.1235030\n",
    "- 0nuTensor :    0.0701084\n",
    "\n"
   ]
  },
  {
   "cell_type": "code",
   "execution_count": 2,
   "metadata": {},
   "outputs": [],
   "source": [
    "# eMax14\n",
    " "
   ]
  },
  {
   "cell_type": "markdown",
   "metadata": {},
   "source": [
    "# Build a dataframe for the data"
   ]
  },
  {
   "cell_type": "code",
   "execution_count": 3,
   "metadata": {},
   "outputs": [
    {
     "data": {
      "text/html": [
       "<div>\n",
       "<style scoped>\n",
       "    .dataframe tbody tr th:only-of-type {\n",
       "        vertical-align: middle;\n",
       "    }\n",
       "\n",
       "    .dataframe tbody tr th {\n",
       "        vertical-align: top;\n",
       "    }\n",
       "\n",
       "    .dataframe thead th {\n",
       "        text-align: right;\n",
       "    }\n",
       "</style>\n",
       "<table border=\"1\" class=\"dataframe\">\n",
       "  <thead>\n",
       "    <tr style=\"text-align: right;\">\n",
       "      <th></th>\n",
       "      <th>eMax</th>\n",
       "      <th>Energy (MeV)</th>\n",
       "      <th>rn (fm)</th>\n",
       "      <th>rp (fm)</th>\n",
       "      <th>rm (fm)</th>\n",
       "      <th>FM</th>\n",
       "      <th>GT</th>\n",
       "      <th>Tensor</th>\n",
       "    </tr>\n",
       "  </thead>\n",
       "  <tbody>\n",
       "    <tr>\n",
       "      <th>0</th>\n",
       "      <td>2.0</td>\n",
       "      <td>-20.8100</td>\n",
       "      <td>1.9593</td>\n",
       "      <td>1.5851</td>\n",
       "      <td>1.84310</td>\n",
       "      <td>-2.4314</td>\n",
       "      <td>-9.2254</td>\n",
       "      <td>0.15399</td>\n",
       "    </tr>\n",
       "    <tr>\n",
       "      <th>1</th>\n",
       "      <td>4.0</td>\n",
       "      <td>-26.0370</td>\n",
       "      <td>2.0742</td>\n",
       "      <td>1.6291</td>\n",
       "      <td>1.93720</td>\n",
       "      <td>-2.2871</td>\n",
       "      <td>-8.7854</td>\n",
       "      <td>0.11280</td>\n",
       "    </tr>\n",
       "    <tr>\n",
       "      <th>2</th>\n",
       "      <td>6.0</td>\n",
       "      <td>-27.7520</td>\n",
       "      <td>2.1358</td>\n",
       "      <td>1.6392</td>\n",
       "      <td>1.98410</td>\n",
       "      <td>-2.1760</td>\n",
       "      <td>-8.3480</td>\n",
       "      <td>0.10270</td>\n",
       "    </tr>\n",
       "    <tr>\n",
       "      <th>3</th>\n",
       "      <td>8.0</td>\n",
       "      <td>-28.2396</td>\n",
       "      <td>2.1800</td>\n",
       "      <td>1.6477</td>\n",
       "      <td>2.01824</td>\n",
       "      <td>-2.2033</td>\n",
       "      <td>-8.7980</td>\n",
       "      <td>0.06240</td>\n",
       "    </tr>\n",
       "    <tr>\n",
       "      <th>4</th>\n",
       "      <td>10.0</td>\n",
       "      <td>-28.3852</td>\n",
       "      <td>2.2120</td>\n",
       "      <td>1.6551</td>\n",
       "      <td>2.04330</td>\n",
       "      <td>-2.0700</td>\n",
       "      <td>-8.0429</td>\n",
       "      <td>0.06850</td>\n",
       "    </tr>\n",
       "    <tr>\n",
       "      <th>5</th>\n",
       "      <td>12.0</td>\n",
       "      <td>-28.4345</td>\n",
       "      <td>2.2339</td>\n",
       "      <td>1.6596</td>\n",
       "      <td>2.06030</td>\n",
       "      <td>-2.1235</td>\n",
       "      <td>-8.2346</td>\n",
       "      <td>0.07010</td>\n",
       "    </tr>\n",
       "  </tbody>\n",
       "</table>\n",
       "</div>"
      ],
      "text/plain": [
       "   eMax  Energy (MeV)  rn (fm)  rp (fm)  rm (fm)      FM      GT   Tensor\n",
       "0   2.0      -20.8100   1.9593   1.5851  1.84310 -2.4314 -9.2254  0.15399\n",
       "1   4.0      -26.0370   2.0742   1.6291  1.93720 -2.2871 -8.7854  0.11280\n",
       "2   6.0      -27.7520   2.1358   1.6392  1.98410 -2.1760 -8.3480  0.10270\n",
       "3   8.0      -28.2396   2.1800   1.6477  2.01824 -2.2033 -8.7980  0.06240\n",
       "4  10.0      -28.3852   2.2120   1.6551  2.04330 -2.0700 -8.0429  0.06850\n",
       "5  12.0      -28.4345   2.2339   1.6596  2.06030 -2.1235 -8.2346  0.07010"
      ]
     },
     "execution_count": 3,
     "metadata": {},
     "output_type": "execute_result"
    }
   ],
   "source": [
    "IMSRG = pd.DataFrame(columns=[\"eMax\", \"Energy (MeV)\", \"rn (fm)\", \"rp (fm)\", \"rm (fm)\", \"FM\",\"GT\",\"Tensor\"])\n",
    "IMSRG.loc[0] = [2,-20.810,1.9593,  1.5851,  1.8431,-2.4314,-9.2254,0.15399] \n",
    "IMSRG.loc[1] = [4,-26.037,2.0742,1.6291,1.9372,-2.2871,-8.7854,0.1128] \n",
    "IMSRG.loc[2] = [6,-27.7520,2.1358,1.6392,1.9841,-2.1760,-8.3480,0.1027] \n",
    "IMSRG.loc[3] = [8,-28.2396,2.1800,1.6477,2.01824,-2.2033,-8.7980,0.0624] \n",
    "IMSRG.loc[4] = [10,-28.3852,2.2120,1.6551,2.0433,-2.0700,-8.0429,0.0685] \n",
    "IMSRG.loc[5] = [12,-28.4345,2.2339,1.6596,2.0603,-2.1235,-8.2346,0.0701] \n",
    "\n",
    "IMSRG"
   ]
  },
  {
   "cell_type": "code",
   "execution_count": 4,
   "metadata": {},
   "outputs": [
    {
     "data": {
      "image/png": "[encoded data removed]",
      "text/plain": [
       "<Figure size 576x432 with 1 Axes>"
      ]
     },
     "metadata": {},
     "output_type": "display_data"
    }
   ],
   "source": [
    "IMSRG.plot(kind='scatter',x='eMax',y='Energy (MeV)',figsize=(8,6),fontsize=24,s=100,c='k',marker='o')\n",
    "plt.xlabel('eMax',fontsize=24)\n",
    "plt.ylabel('Energy (MeV)',fontsize=24)\n",
    "plt.xlim(0,14)\n",
    "plt.ylim(-32,-15)\n",
    "\n",
    "\n",
    "plt.gca().yaxis.set_major_locator(ticker.MultipleLocator(2))\n",
    "plt.gca().yaxis.set_minor_locator(ticker.MultipleLocator(1))\n",
    "\n",
    "\n",
    "plt.gca().xaxis.set_major_locator(ticker.MultipleLocator(2))\n",
    "plt.gca().xaxis.set_minor_locator(ticker.MultipleLocator(1))\n",
    "\n",
    "plt.tick_params(which='major',direction='in',length=10,labelsize=20)\n",
    "plt.tick_params(which='minor',direction='in',length=5,labelsize=20)"
   ]
  },
  {
   "cell_type": "markdown",
   "metadata": {},
   "source": [
    "# Extrapolation for energy and radius\n",
    "\n",
    "Ref: R. J. Furnstahl, G. Hagen, T. Papenbrock, PRC (2012)\n",
    "\n",
    "$$\n",
    "E(e_{\\rm max},\\hbar\\Omega) = E_{\\infty} + A_0 e^{-\\Lambda^2_{UV}/A^2_1} +A_2 e^{-2k_\\infty L_{IR}}\n",
    "$$\n",
    "\n",
    "where \n",
    "\n",
    "\\begin{align}  \n",
    "\\Lambda_{UV} &= \\sqrt{(2e_{\\rm max}+7) } \\hbar/a_{HO},\\\\\n",
    "L_{IR} &= \\sqrt{(2e_{\\rm max}+7)}/a_{HO},\\\\\n",
    "\\end{align}\n",
    "\n",
    "with $a_{HO}=\\sqrt{\\hbar/m\\Omega}$\n",
    "\n",
    "\n",
    "\n",
    "# Radius\n",
    "\n",
    "\n",
    "$$\n",
    "<r^2>_L = <r^2>_0 \\left[1-(c_0\\beta^3+c_1\\beta)e^{-\\beta}\\right],\n",
    "$$\n",
    "where $\\beta=2k_\\infty L_{IR}\\propto \\sqrt{2e_{\\rm Max}+7}$.\n"
   ]
  },
  {
   "cell_type": "code",
   "execution_count": 6,
   "metadata": {},
   "outputs": [],
   "source": [
    "from scipy.optimize import curve_fit\n",
    "\"' constants'\"\n",
    "hbc = 197.328284\n",
    "amu = 939.0\n",
    "\n",
    "\n",
    "def aHO(hw):\n",
    "    aH0 = np.sqrt(hbc*hbc/(amu*hw))\n",
    "    return aH0\n",
    "\n",
    "def energy(emax,e0,a0,a1,a2,k0):\n",
    "    LUV = np.sqrt(2*emax+7)/aHO(20)\n",
    "    LIR = np.sqrt(2*emax+7)*aHO(20)\n",
    "    return e0+a0*np.exp(-LUV**2/a1**2)+a2*np.exp(-2*k0*LIR)\n",
    "\n",
    "def radius(x, p0,p1,p2,p3):\n",
    "    x = np.sqrt(2*x+7)\n",
    "    return p0 - (p1*x+p2*x**3)*np.exp(-p3*x) \n"
   ]
  },
  {
   "cell_type": "code",
   "execution_count": 7,
   "metadata": {},
   "outputs": [
    {
     "name": "stderr",
     "output_type": "stream",
     "text": [
      "/anaconda3/lib/python3.6/site-packages/scipy/optimize/minpack.py:794: OptimizeWarning: Covariance of the parameters could not be estimated\n",
      "  category=OptimizeWarning)\n"
     ]
    }
   ],
   "source": [
    "\"' Data'\"\n",
    "\n",
    "eMax = IMSRG['eMax'].values\n",
    "Egs  = IMSRG['Energy (MeV)'].values\n",
    "\n",
    "Epopt,Epcov=curve_fit(energy,eMax,Egs)"
   ]
  },
  {
   "cell_type": "code",
   "execution_count": 8,
   "metadata": {},
   "outputs": [
    {
     "data": {
      "text/plain": [
       "array([  -28.47142786,   184.60319071,    -1.29132964, -1200.51960325,\n",
       "         131.64221615])"
      ]
     },
     "execution_count": 8,
     "metadata": {},
     "output_type": "execute_result"
    }
   ],
   "source": [
    "Epopt"
   ]
  },
  {
   "cell_type": "code",
   "execution_count": 9,
   "metadata": {},
   "outputs": [
    {
     "data": {
      "text/plain": [
       "Text(16,-22,'$^{6}$He')"
      ]
     },
     "execution_count": 9,
     "metadata": {},
     "output_type": "execute_result"
    },
    {
     "data": {
      "image/png": "[encoded data removed]",
      "text/plain": [
       "<Figure size 432x288 with 1 Axes>"
      ]
     },
     "metadata": {},
     "output_type": "display_data"
    }
   ],
   "source": [
    "plt.scatter(eMax,Egs,c='k')\n",
    "\n",
    "x_pred=np.linspace(0,20,100)\n",
    "plt.plot(x_pred, energy(x_pred, *Epopt),c='r')\n",
    "\n",
    "plt.ylim(-30,-14)\n",
    "plt.gca().yaxis.set_major_locator(ticker.MultipleLocator(2))\n",
    "plt.gca().yaxis.set_minor_locator(ticker.MultipleLocator(1))\n",
    "\n",
    "plt.xlim(0,20)\n",
    "plt.tick_params(which='major',direction='in',labelsize=16,length=8)\n",
    "plt.tick_params(which='minor',direction='in',labelsize=16,length=4)\n",
    "\n",
    "plt.gca().xaxis.set_major_locator(ticker.MultipleLocator(2))\n",
    "plt.gca().xaxis.set_minor_locator(ticker.MultipleLocator(1))\n",
    "\n",
    "plt.ylabel('E (MeV)',fontsize=20)\n",
    "plt.xlabel(' eMax',fontsize=20)\n",
    "\n",
    "plt.legend([r'Fit ($E_{\\infty}=-28.471$)','IMSRG (EM/2.0)'],fontsize=16)\n",
    "plt.text(16,-22,r'$^{6}$He',fontsize=24)"
   ]
  },
  {
   "cell_type": "code",
   "execution_count": 10,
   "metadata": {},
   "outputs": [
    {
     "data": {
      "text/plain": [
       "array([2.292478  , 3.45963428, 0.0992413 , 1.15086224])"
      ]
     },
     "execution_count": 10,
     "metadata": {},
     "output_type": "execute_result"
    }
   ],
   "source": [
    "rnpopt,rnpcov=curve_fit(radius,IMSRG['eMax'].values,IMSRG['rn (fm)'].values)\n",
    "rnpopt"
   ]
  },
  {
   "cell_type": "code",
   "execution_count": 11,
   "metadata": {},
   "outputs": [
    {
     "data": {
      "text/plain": [
       "array([1.66039249, 6.00323778, 0.1505817 , 1.75871324])"
      ]
     },
     "execution_count": 11,
     "metadata": {},
     "output_type": "execute_result"
    }
   ],
   "source": [
    "rppopt,rppcov=curve_fit(radius,IMSRG['eMax'].values,IMSRG['rp (fm)'].values)\n",
    "rppopt"
   ]
  },
  {
   "cell_type": "code",
   "execution_count": 12,
   "metadata": {},
   "outputs": [
    {
     "data": {
      "text/plain": [
       "array([2.10109884, 3.0450254 , 0.08610582, 1.18883852])"
      ]
     },
     "execution_count": 12,
     "metadata": {},
     "output_type": "execute_result"
    }
   ],
   "source": [
    "rmpopt,rmpcov=curve_fit(radius,IMSRG['eMax'].values,IMSRG['rm (fm)'].values)\n",
    "rmpopt"
   ]
  },
  {
   "cell_type": "code",
   "execution_count": 13,
   "metadata": {},
   "outputs": [
    {
     "data": {
      "text/plain": [
       "Text(2,2.8,'$^{6}$He')"
      ]
     },
     "execution_count": 13,
     "metadata": {},
     "output_type": "execute_result"
    },
    {
     "data": {
      "image/png": "[encoded data removed]",
      "text/plain": [
       "<Figure size 432x288 with 1 Axes>"
      ]
     },
     "metadata": {},
     "output_type": "display_data"
    }
   ],
   "source": [
    "plt.scatter(IMSRG['eMax'].values,IMSRG['rn (fm)'].values,c='k')\n",
    "plt.scatter(IMSRG['eMax'].values,IMSRG['rp (fm)'].values,c='k')\n",
    "plt.scatter(IMSRG['eMax'].values,IMSRG['rm (fm)'].values,c='k')\n",
    "\n",
    "x_pred=np.linspace(2,20,100)\n",
    "plt.plot(x_pred, radius(x_pred, *rnpopt),'-',c='r')\n",
    "plt.plot(x_pred, radius(x_pred, *rppopt),'-.',c='g')\n",
    "plt.plot(x_pred, radius(x_pred, *rmpopt),'--',c='b');\n",
    "\n",
    "plt.ylim(1.2,3.2)\n",
    "plt.gca().yaxis.set_major_locator(ticker.MultipleLocator(0.4))\n",
    "plt.gca().yaxis.set_minor_locator(ticker.MultipleLocator(0.2))\n",
    "\n",
    "plt.xlim(0,20)\n",
    "plt.tick_params(which='major',direction='in',labelsize=16,length=8)\n",
    "plt.tick_params(which='minor',direction='in',labelsize=16,length=4)\n",
    "\n",
    "plt.gca().xaxis.set_major_locator(ticker.MultipleLocator(2))\n",
    "plt.gca().xaxis.set_minor_locator(ticker.MultipleLocator(1))\n",
    "\n",
    "plt.ylabel(r'rms radius (fm)',fontsize=20)\n",
    "plt.xlabel(' eMax',fontsize=20)\n",
    "\n",
    "plt.legend(['neutron (2.23)','proton (1.66)','matter (2.06)','IMSRG (EM/2.0)'],fontsize=14)\n",
    "plt.text(2,2.8,r'$^{6}$He',fontsize=24)"
   ]
  },
  {
   "cell_type": "markdown",
   "metadata": {},
   "source": [
    "# Find the value range with 90% Confidence Level"
   ]
  },
  {
   "cell_type": "code",
   "execution_count": 18,
   "metadata": {},
   "outputs": [],
   "source": [
    "from scipy import stats\n",
    "def interval_params(rnpopt,rnpcov):\n",
    "    alpha = 0.1 # 90% confidence interval = 100*(1-alpha)\n",
    "\n",
    "    n = len(IMSRG['eMax'].values)    # number of data points\n",
    "    p = len(rnpopt) # number of parameters\n",
    "\n",
    "    dof = max(0, n - p) # number of degrees of freedom\n",
    "\n",
    "    # student-t value for the dof and confidence level\n",
    "    tval = stats.t.ppf(1.0-alpha/2., dof) \n",
    "\n",
    "    for i, p,var in zip(range(n), rnpopt, np.diag(rnpcov)):\n",
    "        sigma = var**0.5\n",
    "        print('p{0}: {1} [{2}  {3}]'.format(i, p,\n",
    "                                      p - sigma*tval,\n",
    "                                      p + sigma*tval))"
   ]
  },
  {
   "cell_type": "code",
   "execution_count": 19,
   "metadata": {},
   "outputs": [
    {
     "name": "stdout",
     "output_type": "stream",
     "text": [
      "p0: 2.2977287574907947 [1.8009822153828696  2.79447529959872]\n",
      "p1: 1.7691065449913257 [-11.813922547338038  15.35213563732069]\n",
      "p2: 0.20853561607548735 [-14.057354706537255  14.47442593868823]\n",
      "p3: 1.5662388473169904 [-13.09566092281195  16.228138617445932]\n"
     ]
    }
   ],
   "source": [
    "rnpopt,rnpcov=curve_fit(radius,IMSRG['eMax'].values,IMSRG['rn (fm)'].values)\n",
    "interval_params(rnpopt,rnpcov)"
   ]
  },
  {
   "cell_type": "code",
   "execution_count": 20,
   "metadata": {},
   "outputs": [
    {
     "name": "stdout",
     "output_type": "stream",
     "text": [
      "p0: 1.6616812320911205 [1.4759793832314292  1.8473830809508118]\n",
      "p1: 0.8985519154076237 [-76.79320840585386  78.5903122366691]\n",
      "p2: 0.09303927291358492 [-71.116598090225  71.30267663605217]\n",
      "p3: 2.1261213403883454 [-143.08185243469106  147.33409511546776]\n"
     ]
    }
   ],
   "source": [
    "rnpopt,rnpcov=curve_fit(radius,IMSRG['eMax'].values,IMSRG['rp (fm)'].values)\n",
    "interval_params(rnpopt,rnpcov)"
   ]
  },
  {
   "cell_type": "code",
   "execution_count": 21,
   "metadata": {},
   "outputs": [
    {
     "name": "stdout",
     "output_type": "stream",
     "text": [
      "p0: 2.105580257285642 [1.6069045152722636  2.60425599929902]\n",
      "p1: 1.4415506545247148 [-15.23104660024801  18.11414790929744]\n",
      "p2: 0.16751052599832889 [-16.951319637970663  17.286340689967318]\n",
      "p3: 1.599975458726569 [-20.011595153536213  23.21154607098935]\n"
     ]
    }
   ],
   "source": [
    "rnpopt,rnpcov=curve_fit(radius,IMSRG['eMax'].values,IMSRG['rm (fm)'].values)\n",
    "interval_params(rnpopt,rnpcov)"
   ]
  },
  {
   "cell_type": "markdown",
   "metadata": {},
   "source": [
    "## Matrix elements for neutrinoless double beta decay"
   ]
  },
  {
   "cell_type": "code",
   "execution_count": 22,
   "metadata": {
    "scrolled": true
   },
   "outputs": [],
   "source": [
    "def plot_NME(x,y,c,ymajor_step,yminor_step):\n",
    "    plt.scatter(IMSRG[x].values,-IMSRG[y].values,c=c)\n",
    "    x_pred=np.linspace(2,20,100) \n",
    "    plt.gca().yaxis.set_major_locator(ticker.MultipleLocator(ymajor_step))\n",
    "    plt.gca().yaxis.set_minor_locator(ticker.MultipleLocator(yminor_step))\n",
    "\n",
    "    plt.xlim(0,20)\n",
    "    plt.tick_params(which='major',direction='in',labelsize=16,length=8)\n",
    "    plt.tick_params(which='minor',direction='in',labelsize=16,length=4)\n",
    "\n",
    "    plt.gca().xaxis.set_major_locator(ticker.MultipleLocator(2))\n",
    "    plt.gca().xaxis.set_minor_locator(ticker.MultipleLocator(1))\n",
    "\n",
    "\n",
    "    plt.ylabel(r'M$^{0\\nu}$',fontsize=20)\n",
    "    plt.xlabel(' eMax',fontsize=20)\n",
    "    \n"
   ]
  },
  {
   "cell_type": "code",
   "execution_count": 23,
   "metadata": {},
   "outputs": [
    {
     "data": {
      "text/plain": [
       "(6, 10)"
      ]
     },
     "execution_count": 23,
     "metadata": {},
     "output_type": "execute_result"
    },
    {
     "data": {
      "image/png": "[encoded data removed]",
      "text/plain": [
       "<Figure size 432x288 with 1 Axes>"
      ]
     },
     "metadata": {},
     "output_type": "display_data"
    }
   ],
   "source": [
    "plot_NME('eMax','GT','r',1,0.2)\n",
    "plt.ylim(6,10) "
   ]
  },
  {
   "cell_type": "code",
   "execution_count": 143,
   "metadata": {},
   "outputs": [
    {
     "data": {
      "text/plain": [
       "(1.5, 3)"
      ]
     },
     "execution_count": 143,
     "metadata": {},
     "output_type": "execute_result"
    },
    {
     "data": {
      "image/png": "[encoded data removed]",
      "text/plain": [
       "<Figure size 432x288 with 1 Axes>"
      ]
     },
     "metadata": {},
     "output_type": "display_data"
    }
   ],
   "source": [
    "plot_NME('eMax','FM','b',0.5,0.1)\n",
    "plt.ylim(1.5,3)"
   ]
  },
  {
   "cell_type": "code",
   "execution_count": 144,
   "metadata": {},
   "outputs": [
    {
     "data": {
      "text/plain": [
       "(-0.2, 0.2)"
      ]
     },
     "execution_count": 144,
     "metadata": {},
     "output_type": "execute_result"
    },
    {
     "data": {
      "image/png": "[encoded data removed]",
      "text/plain": [
       "<Figure size 432x288 with 1 Axes>"
      ]
     },
     "metadata": {},
     "output_type": "display_data"
    }
   ],
   "source": [
    "plot_NME('eMax','Tensor','g',0.1,0.02)\n",
    "plt.ylim(-0.2,0.2)"
   ]
  },
  {
   "cell_type": "code",
   "execution_count": null,
   "metadata": {},
   "outputs": [],
   "source": []
  }
 ],
 "metadata": {
  "kernelspec": {
   "display_name": "Python 3",
   "language": "python",
   "name": "python3"
  },
  "language_info": {
   "codemirror_mode": {
    "name": "ipython",
    "version": 3
   },
   "file_extension": ".py",
   "mimetype": "text/x-python",
   "name": "python",
   "nbconvert_exporter": "python",
   "pygments_lexer": "ipython3",
   "version": "3.6.5"
  },
  "toc": {
   "base_numbering": 1,
   "nav_menu": {},
   "number_sections": true,
   "sideBar": true,
   "skip_h1_title": false,
   "title_cell": "Table of Contents",
   "title_sidebar": "Contents",
   "toc_cell": false,
   "toc_position": {},
   "toc_section_display": true,
   "toc_window_display": false
  },
  "varInspector": {
   "cols": {
    "lenName": 16,
    "lenType": 16,
    "lenVar": 40
   },
   "kernels_config": {
    "python": {
     "delete_cmd_postfix": "",
     "delete_cmd_prefix": "del ",
     "library": "var_list.py",
     "varRefreshCmd": "print(var_dic_list())"
    },
    "r": {
     "delete_cmd_postfix": ") ",
     "delete_cmd_prefix": "rm(",
     "library": "var_list.r",
     "varRefreshCmd": "cat(var_dic_list()) "
    }
   },
   "types_to_exclude": [
    "module",
    "function",
    "builtin_function_or_method",
    "instance",
    "_Feature"
   ],
   "window_display": false
  }
 },
 "nbformat": 4,
 "nbformat_minor": 2
}
