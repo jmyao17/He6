{
 "cells": [
  {
   "cell_type": "markdown",
   "metadata": {},
   "source": [
    "# Computing He6 with a chiral NN interaction EM/2.0"
   ]
  },
  {
   "cell_type": "markdown",
   "metadata": {},
   "source": [
    "# RISE allows you to instantly turn your Jupyter Notebooks into a slideshow. No out-of-band conversion is needed, switch from jupyter notebook to a live reveal.js-based slideshow in a single keystroke, and back."
   ]
  },
  {
   "cell_type": "code",
   "execution_count": 3,
   "metadata": {},
   "outputs": [],
   "source": [
    "import numpy as np\n",
    "import matplotlib.pyplot as plt\n",
    "import pandas as pd"
   ]
  },
  {
   "cell_type": "markdown",
   "metadata": {},
   "source": [
    "# Computing rms radius\n",
    "\n",
    "commandlines:\n",
    "\n",
    "1. **normalorder_obs** ResDir=\\${ResDir} lMax=\\${lMax} ObsID=Rms RefType=PNP \\${ResDir}/\\${Nucl}_\\${eMax}_\\${lMax}_\\${hwHO}.hfbc\n",
    "\n",
    "2. **calc_obs_y** ResDir=\\${ResDir} DEBUG=1 RefType=PNP sMax=1.0 IntID=${IntID} ObsID=Rms ObsID=RmsNeutron ObsID=RmsProton \\${ResDir}/\\${Nucl}_\\${eMax}_\\${lMax}_\\${hwHO}.hfbc"
   ]
  },
  {
   "cell_type": "markdown",
   "metadata": {},
   "source": [
    "***Attention:***\n",
    "\n",
    "1. using the command \"normalorder_obs\" with \"ObsID=Rms\", the code will look for the file \"ImSRG/nsuite/int/Rms.obs\", which is shown below\n",
    "\n",
    "[Rms]\n",
    "tag = Rms\n",
    "\n",
    "[RmsProton]\n",
    "tag = RmsProton\n",
    "\n",
    "[RmsNeutron]\n",
    "tag = RmsNeutron"
   ]
  },
  {
   "cell_type": "markdown",
   "metadata": {},
   "source": [
    "# Computing the NME for $0\\nu$ DBD\n",
    "\n",
    "\n",
    "1. Generate Transition density file \"DBD_TD/eMax04/He6_chi2b_srg0625_eMax04_lMax04_hwHO020.tdens.me2b.gz\"   \n",
    "   \n",
    " <font color=\"red\"> Rho2B2TD ResDir=\\${DBDDir} IntID=\\${IntID} RefType=Multi \\${ResDir}/\\${Nucl}_\\${IntID}_\\${eMax}_\\${lMax}_\\${hwHO}.mref </font>\n",
    "\n",
    "\n",
    "\n",
    "2. Generate two-body transition matrix element (TBTME) file \"DBD_TD/ImSRG_Norm_0nuFermi_eMax04_lMax04_hwHO020.dbd0.me2b.gz\"\n",
    "\n",
    "***Note***   \n",
    "The two-body transition matrix elements (TBTME) are stored in the respository: \n",
    "\n",
    "/mnt/research/imsrg/jmyao/dbd_nme/\n",
    "\n",
    "\n",
    "\n",
    "**<font color='red'> Check the two-body matrix elements before carrying out any calculations!!</font>**\n",
    "\n",
    "Here, we adopted the matrix element file:  \"DBD0nu_GT_Fermi_Tensor_eMax14_hwHO020_A76_NoSRC.dat\" (** Recommended **)\n"
   ]
  },
  {
   "cell_type": "markdown",
   "metadata": {},
   "source": [
    "# killdevil.unc.edu server\n",
    "\n",
    "1. eMax=8\n",
    "2. eMax=12"
   ]
  },
  {
   "cell_type": "markdown",
   "metadata": {},
   "source": [
    "# hpcc.msu.edu server\n",
    "\n",
    "1. eMax=14"
   ]
  },
  {
   "cell_type": "markdown",
   "metadata": {},
   "source": [
    "# Results"
   ]
  },
  {
   "cell_type": "markdown",
   "metadata": {},
   "source": [
    "## eMax02\n",
    "\n",
    "\n",
    " Final value  :  -20.8103745\n",
    "\n",
    " *** No r1r2_eMax02 matrix elements***\n",
    "\n",
    " O     -> { M^(0nu) (evolved) }\n",
    " - 0nuGT :   -9.2254430 \n",
    " - 0nuFermi :   -2.4314554 \n",
    " - 0nuTensor :    0.1539980 "
   ]
  },
  {
   "cell_type": "markdown",
   "metadata": {},
   "source": [
    "## eMax04\n",
    "\n",
    "\n",
    "- Final value  :  -26.0368481\n",
    "\n",
    "\n",
    "- Rms**2 :    3.7529149 \n",
    "- Rms :    1.9372442 \n",
    "- RmsNeutron**2 :    4.3024013 \n",
    "- RmsNeutron :    2.0742230 \n",
    "- RmsProton**2 :    2.6539422 \n",
    "- RmsProton :    1.6290925 \n",
    " \n",
    " \n",
    "O     -> { M^(0nu) (evolved) }\n",
    "- 0nuGT :   -8.7853843 \n",
    "- 0nuFermi :   -2.2871362 \n",
    "- 0nuTensor :    0.1128330 "
   ]
  },
  {
   "cell_type": "markdown",
   "metadata": {},
   "source": [
    "## eMax06\n",
    "\n",
    "- Final value  :  -27.7520455\n",
    "\n",
    "\n",
    "- Rms**2 :    3.9368477 \n",
    "- Rms :    1.9841491 \n",
    "- RmsNeutron**2 :    4.5618029 \n",
    "- RmsNeutron :    2.1358377 \n",
    "- RmsProton**2 :    2.6869219 \n",
    "- RmsProton :    1.6391833 \n",
    "\n",
    "O     -> { M^(0nu) (evolved) }\n",
    "- 0nuGT :   -8.3479856 \n",
    "- 0nuFermi :   -2.1760072 \n",
    "- 0nuTensor :    0.1026880 \n"
   ]
  },
  {
   "cell_type": "markdown",
   "metadata": {},
   "source": [
    "## eMax08"
   ]
  },
  {
   "cell_type": "markdown",
   "metadata": {},
   "source": [
    "- Final value  :  -28.2396269  \n",
    "\n",
    "\n",
    "- Rms**2 :    4.0733192   \n",
    "- Rms :    2.0182466 \n",
    "- RmsNeutron**2 :    4.7524972 \n",
    "- RmsNeutron :    2.1800223 \n",
    "- RmsProton**2 :    2.7149641 \n",
    "- RmsProton :    1.6477148 \n",
    "\n",
    "\n",
    " \n",
    " O     -> { M^(0nu) (evolved) }\n",
    " - 0nuGT :   -8.7979617 \n",
    " - 0nuFermi :   -2.2033220 \n",
    " - 0nuTensor :    0.0624368 "
   ]
  },
  {
   "cell_type": "markdown",
   "metadata": {},
   "source": [
    "# eMax10\n",
    "\n",
    " Final value  :  -28.3852033\n",
    "\n",
    " - Rms**2 :    4.1751178\n",
    " - Rms :    2.0433105\n",
    " - RmsNeutron**2 :    4.8929856\n",
    " - RmsNeutron :    2.2120094\n",
    " - RmsProton**2 :    2.7393843\n",
    " - RmsProton :    1.6551085\n",
    " \n",
    " \n",
    "  O     -> { M^(0nu) (evolved) }\n",
    "- 0nuGT :   -8.0428519 \n",
    "- 0nuFermi :   -2.0700514 \n",
    "- 0nuTensor :    0.0685347 "
   ]
  },
  {
   "cell_type": "markdown",
   "metadata": {},
   "source": [
    "# eMax12\n",
    "\n",
    "\n",
    "- Final value  :  -28.4344960\n",
    "\n",
    "- Rms**2 :    4.2448789\n",
    "- Rms :    2.0603104\n",
    "- RmsNeutron**2 :    4.9902053\n",
    "- RmsNeutron :    2.2338767\n",
    "- RmsProton**2 :    2.7542261\n",
    "- RmsProton :    1.6595861\n",
    "\n",
    "\n",
    "O     -> { M^(0nu) (evolved) }\n",
    "- 0nuGT :   -8.2345995        \n",
    "- 0nuFermi :   -2.1017970\n",
    "- 0nuTensor :    0.0734603\n",
    "\n",
    "\n",
    "O     -> { M^(0nu) (evolved) }\n",
    "- 0nuGT :   -8.3527512\n",
    "- 0nuFermi :   -2.1235030\n",
    "- 0nuTensor :    0.0701084\n",
    "\n",
    "# eMax14\n",
    "\n"
   ]
  },
  {
   "cell_type": "code",
   "execution_count": null,
   "metadata": {},
   "outputs": [],
   "source": []
  },
  {
   "cell_type": "markdown",
   "metadata": {},
   "source": [
    "# Extrapolation \n",
    "\n",
    "\n",
    "$$\n",
    "E(e_{\\rm max},\\hbar\\Omega) = E_{\\infty} + A_0 e^{-\\Lambda^2_{UV}/A^2_1} +A_2 e^{-2k_\\infty L_{IR}}\n",
    "$$\n",
    "where \n",
    "\n",
    "\\begin{align}\n",
    "&\\\\\n",
    "\\Lambda_{UV} &= \\sqrt{(2e_{\\rm max}+7) } \\hbar/a_{HO},\\\\\n",
    "L_{IR} &= \\sqrt{(2e_{\\rm max}+7)}/a_{HO},\\\\\n",
    "\\end{align}\n",
    "with $a_{HO}=\\sqrt{\\hbar/m\\Omega}$"
   ]
  },
  {
   "cell_type": "code",
   "execution_count": 210,
   "metadata": {},
   "outputs": [],
   "source": [
    "\n",
    "\"' constants'\"\n",
    "hbc = 197.328284\n",
    "amu = 939.0\n",
    "\n",
    "\n",
    "def aHO(hw):\n",
    "    aH0 = np.sqrt(hbc*hbc/(amu*hw))\n",
    "    return aH0\n",
    "\n",
    "def energy(emax,e0,a0,a1,a2,k0):\n",
    "    LUV = np.sqrt(2*emax+7)/aHO(20)\n",
    "    LIR = np.sqrt(2*emax+7)*aHO(20)\n",
    "    return e0+a0*np.exp(-LUV**2/a1**2)+a2*np.exp(-2*k0*LIR)\n"
   ]
  },
  {
   "cell_type": "code",
   "execution_count": 307,
   "metadata": {},
   "outputs": [],
   "source": [
    "def func(x, a,b,c):\n",
    "    return -a*np.exp(-b*x) + c"
   ]
  },
  {
   "cell_type": "code",
   "execution_count": 308,
   "metadata": {},
   "outputs": [
    {
     "data": {
      "text/plain": [
       "array([0.10371554, 0.25823305, 1.66286169])"
      ]
     },
     "execution_count": 308,
     "metadata": {},
     "output_type": "execute_result"
    }
   ],
   "source": [
    "from scipy.optimize import curve_fit\n",
    "\n",
    "x_train = np.linspace(2,12,6)\n",
    "y_train = np.array([1.60,1.6290925, 1.6391833,1.6477148,1.6551085,1.6595861])\n",
    "\n",
    "popt,pcov=curve_fit(func,x_train,y_train)\n",
    "popt\n"
   ]
  },
  {
   "cell_type": "code",
   "execution_count": 309,
   "metadata": {},
   "outputs": [
    {
     "data": {
      "text/plain": [
       "(array([ 2.,  4.,  6.,  8., 10., 12., 14., 16., 18., 20.]),\n",
       " array([1.60098239, 1.62594294, 1.64083503, 1.64972003, 1.65502105,\n",
       "        1.65818377, 1.66007072, 1.66119653, 1.66186822, 1.66226896]))"
      ]
     },
     "execution_count": 309,
     "metadata": {},
     "output_type": "execute_result"
    }
   ],
   "source": [
    "x_pred=np.linspace(2,20,10)\n",
    "y_pred=func(x_pred,*popt)\n",
    "x_pred,y_pred"
   ]
  },
  {
   "cell_type": "code",
   "execution_count": 310,
   "metadata": {},
   "outputs": [
    {
     "data": {
      "text/plain": [
       "[<matplotlib.lines.Line2D at 0x101e6540f0>]"
      ]
     },
     "execution_count": 310,
     "metadata": {},
     "output_type": "execute_result"
    },
    {
     "data": {
      "image/png": "[encoded data removed]",
      "text/plain": [
       "<Figure size 432x288 with 1 Axes>"
      ]
     },
     "metadata": {},
     "output_type": "display_data"
    }
   ],
   "source": [
    "plt.scatter(x_train,y_train)\n",
    "plt.plot(x_pred,y_pred)"
   ]
  },
  {
   "cell_type": "code",
   "execution_count": 296,
   "metadata": {},
   "outputs": [
    {
     "data": {
      "text/plain": [
       "1.4399305477124946"
      ]
     },
     "execution_count": 296,
     "metadata": {},
     "output_type": "execute_result"
    }
   ],
   "source": [
    "aHO(20)"
   ]
  },
  {
   "cell_type": "code",
   "execution_count": 219,
   "metadata": {},
   "outputs": [
    {
     "data": {
      "text/plain": [
       "<matplotlib.collections.PathCollection at 0x101c8d4ba8>"
      ]
     },
     "execution_count": 219,
     "metadata": {},
     "output_type": "execute_result"
    },
    {
     "data": {
      "image/png": "[encoded data removed]",
      "text/plain": [
       "<Figure size 432x288 with 1 Axes>"
      ]
     },
     "metadata": {},
     "output_type": "display_data"
    }
   ],
   "source": [
    "\"' Data'\"\n",
    "\n",
    "eMax = np.linspace(2,12,6)\n",
    "Egs  = [-20.8103745, -26.0368481,-27.7520455,-28.2396269,-28.3852033,-28.4344960] \n",
    "\n",
    "\n",
    "plt.scatter(eMax,Egs)"
   ]
  },
  {
   "cell_type": "code",
   "execution_count": 220,
   "metadata": {},
   "outputs": [
    {
     "name": "stderr",
     "output_type": "stream",
     "text": [
      "/anaconda3/lib/python3.6/site-packages/scipy/optimize/minpack.py:794: OptimizeWarning: Covariance of the parameters could not be estimated\n",
      "  category=OptimizeWarning)\n"
     ]
    }
   ],
   "source": [
    "\"' Fitting '\"\n",
    "\n",
    "from scipy.optimize import curve_fit\n",
    "\n",
    "popt,pcov=curve_fit(energy,eMax,Egs)"
   ]
  },
  {
   "cell_type": "code",
   "execution_count": 221,
   "metadata": {},
   "outputs": [
    {
     "data": {
      "text/plain": [
       "array([  -28.47148364,   184.54684217,    -1.29138346, -1195.64977609,\n",
       "         131.68014623])"
      ]
     },
     "execution_count": 221,
     "metadata": {},
     "output_type": "execute_result"
    }
   ],
   "source": [
    "popt"
   ]
  },
  {
   "cell_type": "code",
   "execution_count": 222,
   "metadata": {},
   "outputs": [
    {
     "data": {
      "text/plain": [
       "array([-26.06101395, -27.71342926, -28.2330876 , -28.39651187,\n",
       "       -28.44790621])"
      ]
     },
     "execution_count": 222,
     "metadata": {},
     "output_type": "execute_result"
    }
   ],
   "source": [
    "y_pred=energy(x_pred, *popt)\n",
    "y_pred"
   ]
  },
  {
   "cell_type": "code",
   "execution_count": 223,
   "metadata": {},
   "outputs": [
    {
     "data": {
      "text/plain": [
       "<matplotlib.legend.Legend at 0x101d7af908>"
      ]
     },
     "execution_count": 223,
     "metadata": {},
     "output_type": "execute_result"
    },
    {
     "data": {
      "image/png": "[encoded data removed]",
      "text/plain": [
       "<Figure size 432x288 with 1 Axes>"
      ]
     },
     "metadata": {},
     "output_type": "display_data"
    }
   ],
   "source": [
    "import matplotlib.ticker as ticker\n",
    "\n",
    "\n",
    "eMax = np.linspace(2,12,6)\n",
    "Egs  = [-20.8103745, -26.0368481,-27.7520455,-28.2396269,-28.3852033,-28.4344960] \n",
    "plt.scatter(eMax,Egs,c='k')\n",
    "\n",
    "x_pred=np.linspace(0,20,100)\n",
    "plt.plot(x_pred, energy(x_pred, *popt),c='r')\n",
    "\n",
    "\n",
    "\n",
    "\n",
    "plt.ylim(-30,-14)\n",
    "plt.gca().yaxis.set_major_locator(ticker.MultipleLocator(2))\n",
    "plt.gca().yaxis.set_minor_locator(ticker.MultipleLocator(1))\n",
    "\n",
    "plt.xlim(0,20)\n",
    "plt.tick_params(which='major',direction='in',labelsize=16,length=8)\n",
    "plt.tick_params(which='minor',direction='in',labelsize=16,length=4)\n",
    "\n",
    "plt.gca().xaxis.set_major_locator(ticker.MultipleLocator(2))\n",
    "plt.gca().xaxis.set_minor_locator(ticker.MultipleLocator(1))\n",
    "\n",
    "plt.ylabel('E (MeV)',fontsize=20)\n",
    "plt.xlabel(' eMax',fontsize=20)\n",
    "\n",
    "plt.legend([r'Fit ($E_{\\infty}=-28.471$)','IMSRG (EM/2.0)'],fontsize=16)"
   ]
  },
  {
   "cell_type": "markdown",
   "metadata": {},
   "source": [
    "# radius\n",
    "\n",
    "\n",
    "$$\n",
    "<r^2>_L = <r^2>_0 \\left[1-(c_0\\beta^3+c_1\\beta)e^{-\\beta}\\right],\n",
    "$$\n",
    "where $\\beta=2k_\\infty L_{IR}$.\n",
    "\n",
    "\n",
    "**NOTICE: I found that one should have the result of eMax=2 in order to get a good fit.**"
   ]
  },
  {
   "cell_type": "code",
   "execution_count": 333,
   "metadata": {},
   "outputs": [
    {
     "data": {
      "text/plain": [
       "array([-3.03143313, -3.09318367, -3.1148945 , -3.13336926, -3.14946876,\n",
       "       -3.15925875])"
      ]
     },
     "execution_count": 333,
     "metadata": {},
     "output_type": "execute_result"
    }
   ],
   "source": [
    "eMax2 = np.linspace(2,12,6)\n",
    "Rrms  = [1.6,1.6290925, 1.6391833,1.6477148,1.6551085,1.6595861] \n",
    "\n",
    "Rrms2 = -np.power(2,Rrms)\n",
    "Rrms2"
   ]
  },
  {
   "cell_type": "code",
   "execution_count": 334,
   "metadata": {},
   "outputs": [],
   "source": [
    "\n",
    "def radius2(emax,r0,c0,c1,k0):\n",
    "    #LUV = np.sqrt(2*emax+7)/aHO(20)\n",
    "    LIR = np.sqrt(2*emax+7)*aHO(20)\n",
    "    beta = 2*k0*LIR\n",
    "    return -r0*(1-(c0*beta**3+c1*beta)*np.exp(-beta))\n",
    "\n",
    "\n",
    "def func(x, a,b,c):\n",
    "    return -a*np.exp(-b*x) + c"
   ]
  },
  {
   "cell_type": "code",
   "execution_count": 335,
   "metadata": {},
   "outputs": [
    {
     "data": {
      "text/plain": [
       "array([0.10371554, 0.25823305, 1.66286169])"
      ]
     },
     "execution_count": 335,
     "metadata": {},
     "output_type": "execute_result"
    }
   ],
   "source": [
    "\"' Fitting '\"\n",
    "\n",
    "from scipy.optimize import curve_fit\n",
    "\n",
    "popt4rp,pcov4rp=curve_fit(func,eMax2,Rrms)\n",
    "popt4rp"
   ]
  },
  {
   "cell_type": "code",
   "execution_count": 338,
   "metadata": {},
   "outputs": [
    {
     "data": {
      "text/plain": [
       "<matplotlib.legend.Legend at 0x101f2e9da0>"
      ]
     },
     "execution_count": 338,
     "metadata": {},
     "output_type": "execute_result"
    },
    {
     "data": {
      "image/png": "[encoded data removed]",
      "text/plain": [
       "<Figure size 432x288 with 1 Axes>"
      ]
     },
     "metadata": {},
     "output_type": "display_data"
    }
   ],
   "source": [
    "plt.scatter(eMax2,Rrms,c='k')\n",
    "\n",
    "x_pred=np.linspace(2,20,10)\n",
    "plt.plot(x_pred,func(x_pred,*popt4rp),c='r')\n",
    "\n",
    "\n",
    "plt.ylim(1.0,2.0)\n",
    "plt.gca().yaxis.set_major_locator(ticker.MultipleLocator(0.5))\n",
    "plt.gca().yaxis.set_minor_locator(ticker.MultipleLocator(0.1))\n",
    "\n",
    "plt.xlim(0,20)\n",
    "plt.tick_params(which='major',direction='in',labelsize=16,length=8)\n",
    "plt.tick_params(which='minor',direction='in',labelsize=16,length=4)\n",
    "\n",
    "plt.gca().xaxis.set_major_locator(ticker.MultipleLocator(2))\n",
    "plt.gca().xaxis.set_minor_locator(ticker.MultipleLocator(1))\n",
    "\n",
    "plt.ylabel(r'$R_p$ (fm)',fontsize=20)\n",
    "plt.xlabel(' eMax',fontsize=20)\n",
    "\n",
    "plt.legend([r'Fit ($R_{\\infty}=1.663$)','IMSRG (EM/2.0)'],fontsize=16)"
   ]
  },
  {
   "cell_type": "markdown",
   "metadata": {},
   "source": [
    "# Fit the Energy flow"
   ]
  },
  {
   "cell_type": "markdown",
   "metadata": {},
   "source": [
    "## eMax=12"
   ]
  },
  {
   "cell_type": "code",
   "execution_count": 4,
   "metadata": {},
   "outputs": [],
   "source": [
    "\"' Fitting '\"\n",
    "\n",
    "from scipy.optimize import curve_fit\n",
    "def Es(x,a,b,c):\n",
    "    return  a+c*np.exp(-b*x)/(1+np.exp(-b*x))"
   ]
  },
  {
   "cell_type": "code",
   "execution_count": 5,
   "metadata": {},
   "outputs": [
    {
     "data": {
      "text/html": [
       "<div>\n",
       "<style scoped>\n",
       "    .dataframe tbody tr th:only-of-type {\n",
       "        vertical-align: middle;\n",
       "    }\n",
       "\n",
       "    .dataframe tbody tr th {\n",
       "        vertical-align: top;\n",
       "    }\n",
       "\n",
       "    .dataframe thead th {\n",
       "        text-align: right;\n",
       "    }\n",
       "</style>\n",
       "<table border=\"1\" class=\"dataframe\">\n",
       "  <thead>\n",
       "    <tr style=\"text-align: right;\">\n",
       "      <th></th>\n",
       "      <th>s</th>\n",
       "      <th>E</th>\n",
       "      <th>ept</th>\n",
       "      <th>Ef</th>\n",
       "      <th>el3b</th>\n",
       "      <th>deds</th>\n",
       "      <th>ynorm</th>\n",
       "      <th>etanorm</th>\n",
       "    </tr>\n",
       "  </thead>\n",
       "  <tbody>\n",
       "    <tr>\n",
       "      <th>375</th>\n",
       "      <td>0.650520</td>\n",
       "      <td>-28.429432</td>\n",
       "      <td>0.0</td>\n",
       "      <td>-28.429432</td>\n",
       "      <td>0.000971</td>\n",
       "      <td>-0.028891</td>\n",
       "      <td>0.306459</td>\n",
       "      <td>0.537745</td>\n",
       "    </tr>\n",
       "    <tr>\n",
       "      <th>376</th>\n",
       "      <td>0.651542</td>\n",
       "      <td>-28.429509</td>\n",
       "      <td>0.0</td>\n",
       "      <td>-28.429509</td>\n",
       "      <td>0.000971</td>\n",
       "      <td>-0.075607</td>\n",
       "      <td>0.411377</td>\n",
       "      <td>0.680477</td>\n",
       "    </tr>\n",
       "    <tr>\n",
       "      <th>377</th>\n",
       "      <td>0.652563</td>\n",
       "      <td>-28.429544</td>\n",
       "      <td>0.0</td>\n",
       "      <td>-28.429544</td>\n",
       "      <td>0.000971</td>\n",
       "      <td>-0.033728</td>\n",
       "      <td>0.146214</td>\n",
       "      <td>0.347536</td>\n",
       "    </tr>\n",
       "    <tr>\n",
       "      <th>378</th>\n",
       "      <td>0.654908</td>\n",
       "      <td>-28.429627</td>\n",
       "      <td>0.0</td>\n",
       "      <td>-28.429627</td>\n",
       "      <td>0.000972</td>\n",
       "      <td>-0.035562</td>\n",
       "      <td>0.277721</td>\n",
       "      <td>0.498997</td>\n",
       "    </tr>\n",
       "    <tr>\n",
       "      <th>379</th>\n",
       "      <td>0.655939</td>\n",
       "      <td>-28.429686</td>\n",
       "      <td>0.0</td>\n",
       "      <td>-28.429686</td>\n",
       "      <td>0.000972</td>\n",
       "      <td>-0.056820</td>\n",
       "      <td>0.305708</td>\n",
       "      <td>0.535199</td>\n",
       "    </tr>\n",
       "  </tbody>\n",
       "</table>\n",
       "</div>"
      ],
      "text/plain": [
       "            s          E  ept         Ef      el3b      deds     ynorm  \\\n",
       "375  0.650520 -28.429432  0.0 -28.429432  0.000971 -0.028891  0.306459   \n",
       "376  0.651542 -28.429509  0.0 -28.429509  0.000971 -0.075607  0.411377   \n",
       "377  0.652563 -28.429544  0.0 -28.429544  0.000971 -0.033728  0.146214   \n",
       "378  0.654908 -28.429627  0.0 -28.429627  0.000972 -0.035562  0.277721   \n",
       "379  0.655939 -28.429686  0.0 -28.429686  0.000972 -0.056820  0.305708   \n",
       "\n",
       "      etanorm  \n",
       "375  0.537745  \n",
       "376  0.680477  \n",
       "377  0.347536  \n",
       "378  0.498997  \n",
       "379  0.535199  "
      ]
     },
     "execution_count": 5,
     "metadata": {},
     "output_type": "execute_result"
    }
   ],
   "source": [
    "E12=pd.read_csv('E_N12.dat',delimiter=r'\\s+')\n",
    "E12.tail()"
   ]
  },
  {
   "cell_type": "code",
   "execution_count": null,
   "metadata": {},
   "outputs": [],
   "source": []
  },
  {
   "cell_type": "code",
   "execution_count": 6,
   "metadata": {},
   "outputs": [
    {
     "data": {
      "text/plain": [
       "Text(0.5,1,'[-28.32450119 129.7141819   20.96712012]')"
      ]
     },
     "execution_count": 6,
     "metadata": {},
     "output_type": "execute_result"
    },
    {
     "data": {
      "image/png": "[encoded data removed]",
      "text/plain": [
       "<Figure size 432x288 with 1 Axes>"
      ]
     },
     "metadata": {},
     "output_type": "display_data"
    }
   ],
   "source": [
    "df = E12\n",
    "Energy = df['Ef'].values\n",
    "Flows  = np.log1p(df['s'].values)\n",
    "\n",
    "#popt4rp,pcov4rp=curve_fit(Es,Flows,Energy,bounds=([-29,0.5,0.5], [-26,30,5]))\n",
    "\n",
    "popt4rp,pcov4rp=curve_fit(Es,Flows,Energy)\n",
    "\n",
    "x_pred=np.linspace(df['s'].min(),df['s'].max(),100)\n",
    "plt.plot(x_pred,Es(x_pred,*popt4rp),c='r')\n",
    "plt.scatter(df['s'].values,df['Ef'])\n",
    "plt.xlim(0.00001,10)\n",
    "\n",
    "plt.xscale('log') \n",
    "plt.title(popt4rp)"
   ]
  },
  {
   "cell_type": "code",
   "execution_count": 138,
   "metadata": {},
   "outputs": [
    {
     "data": {
      "text/html": [
       "<div>\n",
       "<style scoped>\n",
       "    .dataframe tbody tr th:only-of-type {\n",
       "        vertical-align: middle;\n",
       "    }\n",
       "\n",
       "    .dataframe tbody tr th {\n",
       "        vertical-align: top;\n",
       "    }\n",
       "\n",
       "    .dataframe thead th {\n",
       "        text-align: right;\n",
       "    }\n",
       "</style>\n",
       "<table border=\"1\" class=\"dataframe\">\n",
       "  <thead>\n",
       "    <tr style=\"text-align: right;\">\n",
       "      <th></th>\n",
       "      <th>s</th>\n",
       "      <th>E</th>\n",
       "      <th>ept</th>\n",
       "      <th>Ef</th>\n",
       "      <th>el3b</th>\n",
       "      <th>deds</th>\n",
       "      <th>ynorm</th>\n",
       "      <th>etanorm</th>\n",
       "    </tr>\n",
       "  </thead>\n",
       "  <tbody>\n",
       "    <tr>\n",
       "      <th>127</th>\n",
       "      <td>0.291241</td>\n",
       "      <td>-28.419667</td>\n",
       "      <td>0.0</td>\n",
       "      <td>-28.419667</td>\n",
       "      <td>0.000554</td>\n",
       "      <td>-0.239413</td>\n",
       "      <td>0.528890</td>\n",
       "      <td>1.212174</td>\n",
       "    </tr>\n",
       "    <tr>\n",
       "      <th>128</th>\n",
       "      <td>0.292043</td>\n",
       "      <td>-28.419852</td>\n",
       "      <td>0.0</td>\n",
       "      <td>-28.419852</td>\n",
       "      <td>0.000556</td>\n",
       "      <td>-0.231497</td>\n",
       "      <td>0.446052</td>\n",
       "      <td>1.114961</td>\n",
       "    </tr>\n",
       "    <tr>\n",
       "      <th>129</th>\n",
       "      <td>0.292844</td>\n",
       "      <td>-28.420033</td>\n",
       "      <td>0.0</td>\n",
       "      <td>-28.420033</td>\n",
       "      <td>0.000558</td>\n",
       "      <td>-0.224962</td>\n",
       "      <td>0.400723</td>\n",
       "      <td>1.064362</td>\n",
       "    </tr>\n",
       "    <tr>\n",
       "      <th>130</th>\n",
       "      <td>0.296366</td>\n",
       "      <td>-28.420704</td>\n",
       "      <td>0.0</td>\n",
       "      <td>-28.420704</td>\n",
       "      <td>0.000567</td>\n",
       "      <td>-0.190782</td>\n",
       "      <td>0.444653</td>\n",
       "      <td>1.100206</td>\n",
       "    </tr>\n",
       "    <tr>\n",
       "      <th>131</th>\n",
       "      <td>0.298171</td>\n",
       "      <td>-28.421176</td>\n",
       "      <td>0.0</td>\n",
       "      <td>-28.421176</td>\n",
       "      <td>0.000571</td>\n",
       "      <td>-0.261402</td>\n",
       "      <td>0.737244</td>\n",
       "      <td>1.464119</td>\n",
       "    </tr>\n",
       "  </tbody>\n",
       "</table>\n",
       "</div>"
      ],
      "text/plain": [
       "            s          E  ept         Ef      el3b      deds     ynorm  \\\n",
       "127  0.291241 -28.419667  0.0 -28.419667  0.000554 -0.239413  0.528890   \n",
       "128  0.292043 -28.419852  0.0 -28.419852  0.000556 -0.231497  0.446052   \n",
       "129  0.292844 -28.420033  0.0 -28.420033  0.000558 -0.224962  0.400723   \n",
       "130  0.296366 -28.420704  0.0 -28.420704  0.000567 -0.190782  0.444653   \n",
       "131  0.298171 -28.421176  0.0 -28.421176  0.000571 -0.261402  0.737244   \n",
       "\n",
       "      etanorm  \n",
       "127  1.212174  \n",
       "128  1.114961  \n",
       "129  1.064362  \n",
       "130  1.100206  \n",
       "131  1.464119  "
      ]
     },
     "execution_count": 138,
     "metadata": {},
     "output_type": "execute_result"
    }
   ],
   "source": [
    "E14=pd.read_csv('E_N14.dat',delimiter=r'\\s+')\n",
    "E14.tail()"
   ]
  },
  {
   "cell_type": "code",
   "execution_count": 73,
   "metadata": {},
   "outputs": [
    {
     "data": {
      "text/plain": [
       "[<matplotlib.lines.Line2D at 0x10236dccc0>]"
      ]
     },
     "execution_count": 73,
     "metadata": {},
     "output_type": "execute_result"
    },
    {
     "data": {
      "image/png": "[encoded data removed]",
      "text/plain": [
       "<Figure size 432x288 with 1 Axes>"
      ]
     },
     "metadata": {},
     "output_type": "display_data"
    }
   ],
   "source": [
    "E14.plot(kind='scatter',x='s',y='Ef',color='red')\n",
    "\n",
    "plt.plot(E14['s'],-28.45+np.exp(-14*E14['s']))"
   ]
  },
  {
   "cell_type": "code",
   "execution_count": 11,
   "metadata": {},
   "outputs": [
    {
     "data": {
      "text/html": [
       "<div>\n",
       "<style scoped>\n",
       "    .dataframe tbody tr th:only-of-type {\n",
       "        vertical-align: middle;\n",
       "    }\n",
       "\n",
       "    .dataframe tbody tr th {\n",
       "        vertical-align: top;\n",
       "    }\n",
       "\n",
       "    .dataframe thead th {\n",
       "        text-align: right;\n",
       "    }\n",
       "</style>\n",
       "<table border=\"1\" class=\"dataframe\">\n",
       "  <thead>\n",
       "    <tr style=\"text-align: right;\">\n",
       "      <th></th>\n",
       "      <th>s</th>\n",
       "      <th>E</th>\n",
       "      <th>ept</th>\n",
       "      <th>Ef</th>\n",
       "      <th>el3b</th>\n",
       "      <th>deds</th>\n",
       "      <th>ynorm</th>\n",
       "      <th>etanorm</th>\n",
       "      <th>logs</th>\n",
       "    </tr>\n",
       "  </thead>\n",
       "  <tbody>\n",
       "    <tr>\n",
       "      <th>0</th>\n",
       "      <td>0.091142</td>\n",
       "      <td>-28.164284</td>\n",
       "      <td>0.0</td>\n",
       "      <td>-28.164284</td>\n",
       "      <td>0.000207</td>\n",
       "      <td>-5.679567</td>\n",
       "      <td>1.791418</td>\n",
       "      <td>4.917374</td>\n",
       "      <td>-2.395337</td>\n",
       "    </tr>\n",
       "    <tr>\n",
       "      <th>1</th>\n",
       "      <td>0.091528</td>\n",
       "      <td>-28.166424</td>\n",
       "      <td>0.0</td>\n",
       "      <td>-28.166424</td>\n",
       "      <td>0.000210</td>\n",
       "      <td>-5.552825</td>\n",
       "      <td>1.739706</td>\n",
       "      <td>4.846513</td>\n",
       "      <td>-2.391110</td>\n",
       "    </tr>\n",
       "    <tr>\n",
       "      <th>2</th>\n",
       "      <td>0.092490</td>\n",
       "      <td>-28.171533</td>\n",
       "      <td>0.0</td>\n",
       "      <td>-28.171533</td>\n",
       "      <td>0.000216</td>\n",
       "      <td>-5.305475</td>\n",
       "      <td>1.667125</td>\n",
       "      <td>4.730433</td>\n",
       "      <td>-2.380655</td>\n",
       "    </tr>\n",
       "    <tr>\n",
       "      <th>3</th>\n",
       "      <td>0.093453</td>\n",
       "      <td>-28.176484</td>\n",
       "      <td>0.0</td>\n",
       "      <td>-28.176484</td>\n",
       "      <td>0.000222</td>\n",
       "      <td>-5.142119</td>\n",
       "      <td>1.649698</td>\n",
       "      <td>4.672981</td>\n",
       "      <td>-2.370297</td>\n",
       "    </tr>\n",
       "    <tr>\n",
       "      <th>4</th>\n",
       "      <td>0.095861</td>\n",
       "      <td>-28.188043</td>\n",
       "      <td>0.0</td>\n",
       "      <td>-28.188043</td>\n",
       "      <td>0.000237</td>\n",
       "      <td>-4.801952</td>\n",
       "      <td>1.595712</td>\n",
       "      <td>4.520162</td>\n",
       "      <td>-2.344856</td>\n",
       "    </tr>\n",
       "  </tbody>\n",
       "</table>\n",
       "</div>"
      ],
      "text/plain": [
       "          s          E  ept         Ef      el3b      deds     ynorm  \\\n",
       "0  0.091142 -28.164284  0.0 -28.164284  0.000207 -5.679567  1.791418   \n",
       "1  0.091528 -28.166424  0.0 -28.166424  0.000210 -5.552825  1.739706   \n",
       "2  0.092490 -28.171533  0.0 -28.171533  0.000216 -5.305475  1.667125   \n",
       "3  0.093453 -28.176484  0.0 -28.176484  0.000222 -5.142119  1.649698   \n",
       "4  0.095861 -28.188043  0.0 -28.188043  0.000237 -4.801952  1.595712   \n",
       "\n",
       "    etanorm      logs  \n",
       "0  4.917374 -2.395337  \n",
       "1  4.846513 -2.391110  \n",
       "2  4.730433 -2.380655  \n",
       "3  4.672981 -2.370297  \n",
       "4  4.520162 -2.344856  "
      ]
     },
     "execution_count": 11,
     "metadata": {},
     "output_type": "execute_result"
    }
   ],
   "source": [
    "E14['logs']=np.log(E14['s'])\n",
    "E14.head()"
   ]
  },
  {
   "cell_type": "code",
   "execution_count": 15,
   "metadata": {},
   "outputs": [
    {
     "data": {
      "text/plain": [
       "(0.091142, 0.298171)"
      ]
     },
     "execution_count": 15,
     "metadata": {},
     "output_type": "execute_result"
    }
   ],
   "source": [
    "E14['s'].min(),E14['s'].max()"
   ]
  },
  {
   "cell_type": "code",
   "execution_count": 27,
   "metadata": {
    "collapsed": true
   },
   "outputs": [
    {
     "data": {
      "text/plain": [
       "array([-28.1642843, -28.1664242, -28.1715327, -28.1764839, -28.188043 ,\n",
       "       -28.1990308, -28.2046216, -28.2100252, -28.2128609, -28.2156327,\n",
       "       -28.22731  , -28.2347307, -28.2417046, -28.2445891, -28.2472843,\n",
       "       -28.2543591, -28.2579587, -28.261418 , -28.2688983, -28.2710687,\n",
       "       -28.2729601, -28.2783338, -28.2822929, -28.2861816, -28.2884008,\n",
       "       -28.2905726, -28.2976365, -28.3009278, -28.303837 , -28.305117 ,\n",
       "       -28.3051172, -28.3070147, -28.3184764, -28.3220086, -28.3244023,\n",
       "       -28.3269053, -28.3287809, -28.3309562, -28.3328371, -28.3348273,\n",
       "       -28.3366671, -28.3385297, -28.3403065, -28.3420683, -28.3437741,\n",
       "       -28.3454491, -28.3470826, -28.3486816, -28.3502445, -28.3517691,\n",
       "       -28.3532642, -28.3547213, -28.3561519, -28.3575455, -28.3589149,\n",
       "       -28.3602486, -28.3613605, -28.3622997, -28.3630234, -28.3652219,\n",
       "       -28.3668453, -28.3684792, -28.3693111, -28.3701046, -28.3723395,\n",
       "       -28.3735201, -28.3744764, -28.3749908, -28.3754597, -28.3775509,\n",
       "       -28.3797736, -28.3816824, -28.3824923, -28.3830066, -28.3843723,\n",
       "       -28.3850898, -28.38509  , -28.3865084, -28.3912581, -28.3919505,\n",
       "       -28.3923575, -28.3935725, -28.3947734, -28.3959201, -28.398271 ,\n",
       "       -28.3992018, -28.3996944, -28.400042 , -28.4003065, -28.401365 ,\n",
       "       -28.4027012, -28.4031541, -28.4035003, -28.4046072, -28.4052418,\n",
       "       -28.4058189, -28.4061398, -28.4063971, -28.4072641, -28.4078092,\n",
       "       -28.4083106, -28.4086041, -28.4088615, -28.4097609, -28.4103176,\n",
       "       -28.4107759, -28.4110568, -28.4112736, -28.4120262, -28.4125094,\n",
       "       -28.4129568, -28.4132222, -28.4134465, -28.4134465, -28.4136238,\n",
       "       -28.4151002, -28.4158016, -28.4162315, -28.4164102, -28.4169559,\n",
       "       -28.4172319, -28.4175084, -28.4178723, -28.4183408, -28.4185202,\n",
       "       -28.4190825, -28.4193615, -28.4196668, -28.4198524, -28.4200327,\n",
       "       -28.4207045, -28.4211764])"
      ]
     },
     "execution_count": 27,
     "metadata": {},
     "output_type": "execute_result"
    }
   ],
   "source": [
    "Energy= E14['Ef'].values\n",
    "Energy"
   ]
  },
  {
   "cell_type": "code",
   "execution_count": 26,
   "metadata": {
    "collapsed": true
   },
   "outputs": [
    {
     "data": {
      "text/plain": [
       "array([0.091142, 0.091528, 0.09249 , 0.093453, 0.095861, 0.098268,\n",
       "       0.099544, 0.100821, 0.101499, 0.102178, 0.105215, 0.107243,\n",
       "       0.109272, 0.110083, 0.110894, 0.113104, 0.114251, 0.115398,\n",
       "       0.118121, 0.118801, 0.119482, 0.121462, 0.123011, 0.124561,\n",
       "       0.12547 , 0.126378, 0.129578, 0.131005, 0.132433, 0.133009,\n",
       "       0.133009, 0.133926, 0.14046 , 0.142094, 0.143727, 0.145004,\n",
       "       0.146281, 0.147558, 0.148835, 0.150112, 0.151388, 0.152665,\n",
       "       0.153942, 0.155219, 0.156496, 0.157772, 0.159049, 0.160326,\n",
       "       0.161603, 0.16288 , 0.164157, 0.165433, 0.16671 , 0.167987,\n",
       "       0.169264, 0.170541, 0.171817, 0.172533, 0.173248, 0.175434,\n",
       "       0.177206, 0.178977, 0.179882, 0.180786, 0.183574, 0.184828,\n",
       "       0.186082, 0.18667 , 0.187257, 0.189953, 0.193068, 0.196183,\n",
       "       0.196962, 0.197741, 0.199687, 0.200796, 0.200796, 0.203048,\n",
       "       0.212531, 0.213124, 0.213717, 0.215755, 0.217995, 0.220235,\n",
       "       0.225836, 0.227236, 0.228636, 0.229219, 0.229802, 0.23218 ,\n",
       "       0.2357  , 0.236579, 0.237459, 0.240292, 0.241948, 0.243604,\n",
       "       0.244322, 0.24504 , 0.247487, 0.249006, 0.250526, 0.251302,\n",
       "       0.252077, 0.254927, 0.256548, 0.258168, 0.25888 , 0.259591,\n",
       "       0.262068, 0.263669, 0.26527 , 0.266067, 0.266864, 0.266864,\n",
       "       0.267473, 0.273561, 0.276546, 0.277292, 0.278039, 0.27994 ,\n",
       "       0.281039, 0.282139, 0.285175, 0.285934, 0.286692, 0.288691,\n",
       "       0.289966, 0.291241, 0.292043, 0.292844, 0.296366, 0.298171])"
      ]
     },
     "execution_count": 26,
     "metadata": {},
     "output_type": "execute_result"
    }
   ],
   "source": [
    "flows=E14['s'].values\n",
    "flows"
   ]
  },
  {
   "cell_type": "code",
   "execution_count": 146,
   "metadata": {},
   "outputs": [
    {
     "data": {
      "text/plain": [
       "Text(0.5,1,'[-28.42391784  17.65880467   1.26843792]')"
      ]
     },
     "execution_count": 146,
     "metadata": {},
     "output_type": "execute_result"
    },
    {
     "data": {
      "image/png": "[encoded data removed]",
      "text/plain": [
       "<Figure size 432x288 with 1 Axes>"
      ]
     },
     "metadata": {},
     "output_type": "display_data"
    }
   ],
   "source": [
    "\n",
    "\n",
    "popt4rp,pcov4rp=curve_fit(Es,flows,Energy,bounds=([-50,0.5,0.5], [-10,30,5]))\n",
    "\n",
    "x_pred=np.linspace(E14['s'].min(),E14['s'].max()*2,100)\n",
    "plt.plot(x_pred,Es(x_pred,*popt4rp),c='r')\n",
    "plt.scatter(E14['s'],E14['Ef']) \n",
    "plt.gca().set_xscale('log') \n",
    "plt.title(popt4rp)"
   ]
  },
  {
   "cell_type": "code",
   "execution_count": null,
   "metadata": {},
   "outputs": [],
   "source": []
  }
 ],
 "metadata": {
  "kernelspec": {
   "display_name": "Python 3",
   "language": "python",
   "name": "python3"
  },
  "language_info": {
   "codemirror_mode": {
    "name": "ipython",
    "version": 3
   },
   "file_extension": ".py",
   "mimetype": "text/x-python",
   "name": "python",
   "nbconvert_exporter": "python",
   "pygments_lexer": "ipython3",
   "version": "3.6.5"
  }
 },
 "nbformat": 4,
 "nbformat_minor": 2
}
